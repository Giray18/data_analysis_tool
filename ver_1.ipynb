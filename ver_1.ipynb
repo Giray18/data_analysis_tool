{
 "cells": [
  {
   "cell_type": "markdown",
   "metadata": {},
   "source": [
    "## Package Imports"
   ]
  },
  {
   "cell_type": "code",
   "execution_count": 1,
   "metadata": {},
   "outputs": [],
   "source": [
    "import pandas as pd\n",
    "import numpy as np\n",
    "import re\n",
    "import json\n",
    "import boto3\n",
    "import s3fs\n",
    "from azure.storage.blob import BlobServiceClient, generate_account_sas, ResourceTypes, AccountSasPermissions\n",
    "import tables\n",
    "from datetime import datetime, timedelta\n"
   ]
  },
  {
   "cell_type": "markdown",
   "metadata": {},
   "source": [
    "## Read dataset from public cloud storage"
   ]
  },
  {
   "cell_type": "code",
   "execution_count": 2,
   "metadata": {},
   "outputs": [],
   "source": [
    "# def read_prefix_to_df(prefix):\n",
    "#     s3 = boto3.resource('s3')\n",
    "#     bucket = s3.Bucket('test-bucket')\n",
    "#     prefix_objs = bucket.objects.filter(Prefix=prefix)\n",
    "#     prefix_df = []\n",
    "#     for obj in prefix_objs:\n",
    "#         key = obj.key\n",
    "#         body = obj.get()['Body'].read()\n",
    "#         df = pd.DataFrame(body)\n",
    "#         prefix_df.append(df)\n",
    "#     return pd.concat(prefix_df)"
   ]
  },
  {
   "cell_type": "code",
   "execution_count": 3,
   "metadata": {},
   "outputs": [],
   "source": [
    "data_location = input(\"From which location we are reading data?\").lower()\n",
    "if data_location in [\"aws\",\"s3\",\"amazon\"]:\n",
    "    AWS_S3_BUCKET = input(\"Your bucket name please\")\n",
    "    file_name = input(\"Your full file name please (with extension)\")\n",
    "    if \"csv\" in file_name.split(\".\"):\n",
    "        file_name = file_name.split(\".\")\n",
    "        df = pd.read_csv(f\"s3://{AWS_S3_BUCKET}/de/{file_name[0]}.csv\")\n",
    "    elif \"parquet\" or \"pqt\" in file_name.split(\".\"):\n",
    "        file_name = file_name.split(\".\")\n",
    "        df = pd.read_parquet(f\"s3://{AWS_S3_BUCKET}/de/{file_name[0]}.parquet\")\n",
    "    else:\n",
    "        print(\"Unavailable file format\")\n",
    "# Not confirmed yet to be developed by reading mechanisim\n",
    "elif data_location in [\"azure\",\"blob\"]:\n",
    "    ACCOUNT_NAME = input(\"Your Azure account name please\")\n",
    "    STORAGE_ACCOUNT_NAME = input(\"Your Azure account storage name please\")\n",
    "    ACCOUNT_KEY = input(\"Your Azure account key please\")\n",
    "    file_name = input(\"Your full file name please (with extension)\")\n",
    "    blob_name = input(\"Your blob name please\")\n",
    "    container_name = input(\"Your container name please\")\n",
    "    # Creating temp sas token\n",
    "    sas_token = generate_account_sas(\n",
    "    account_name=\"{STORAGE_ACCOUNT_NAME}\",\n",
    "    account_key=\"{ACCOUNT_KEY}\",\n",
    "    resource_types=ResourceTypes(service=True),\n",
    "    permission=AccountSasPermissions(read=True),\n",
    "    expiry=datetime.utcnow() + timedelta(hours=1)\n",
    "    )\n",
    "    # Creating service client var \n",
    "    blob_service_client = BlobServiceClient(account_url=f\"https://{ACCOUNT_NAME}.blob.core.windows.net\"\n",
    "                                            , credential=sas_token)\n",
    "    blob_service_client.get_blob_to_path(container_name,blob_name,file_name)\n",
    "    if \"csv\" in file_name.split(\".\"):\n",
    "        file_name = file_name.split(\".\")\n",
    "        df = pd.read_csv(f\"{file_name}\")\n",
    "    elif \"parquet\" or \"pqt\" in file_name.split(\".\"):\n",
    "        file_name = file_name.split(\".\")\n",
    "        df = pd.read_parquet(f\"{file_name}\")\n",
    "    else:\n",
    "        print(\"Unavailable file format\")\n",
    "else:\n",
    "    print(\"no connector available from given file source location\")\n",
    "\n"
   ]
  },
  {
   "cell_type": "markdown",
   "metadata": {},
   "source": [
    "## General Details over Dataset"
   ]
  },
  {
   "cell_type": "markdown",
   "metadata": {},
   "source": [
    "### Head rows of Dataset"
   ]
  },
  {
   "cell_type": "code",
   "execution_count": 4,
   "metadata": {},
   "outputs": [
    {
     "data": {
      "text/html": [
       "<div>\n",
       "<style scoped>\n",
       "    .dataframe tbody tr th:only-of-type {\n",
       "        vertical-align: middle;\n",
       "    }\n",
       "\n",
       "    .dataframe tbody tr th {\n",
       "        vertical-align: top;\n",
       "    }\n",
       "\n",
       "    .dataframe thead th {\n",
       "        text-align: right;\n",
       "    }\n",
       "</style>\n",
       "<table border=\"1\" class=\"dataframe\">\n",
       "  <thead>\n",
       "    <tr style=\"text-align: right;\">\n",
       "      <th></th>\n",
       "      <th>adjective</th>\n",
       "      <th>category</th>\n",
       "      <th>created_at</th>\n",
       "      <th>id</th>\n",
       "      <th>modifier</th>\n",
       "      <th>name</th>\n",
       "      <th>price</th>\n",
       "    </tr>\n",
       "  </thead>\n",
       "  <tbody>\n",
       "    <tr>\n",
       "      <th>0</th>\n",
       "      <td>fuzzy</td>\n",
       "      <td>contraption</td>\n",
       "      <td>2014-01-15 21:36:09</td>\n",
       "      <td>2512.0</td>\n",
       "      <td>carrying_case</td>\n",
       "      <td>fuzzy contraption carrying_case</td>\n",
       "      <td>150.0</td>\n",
       "    </tr>\n",
       "    <tr>\n",
       "      <th>1</th>\n",
       "      <td>NaN</td>\n",
       "      <td>instrument</td>\n",
       "      <td>2013-05-14 05:20:50</td>\n",
       "      <td>482.0</td>\n",
       "      <td>refill</td>\n",
       "      <td>instrument refill</td>\n",
       "      <td>35.2</td>\n",
       "    </tr>\n",
       "    <tr>\n",
       "      <th>2</th>\n",
       "      <td>industrial-strength</td>\n",
       "      <td>module</td>\n",
       "      <td>2014-02-04 19:28:32</td>\n",
       "      <td>2446.0</td>\n",
       "      <td>NaN</td>\n",
       "      <td>industrial-strength module</td>\n",
       "      <td>300.0</td>\n",
       "    </tr>\n",
       "  </tbody>\n",
       "</table>\n",
       "</div>"
      ],
      "text/plain": [
       "             adjective     category           created_at      id  \\\n",
       "0                fuzzy  contraption  2014-01-15 21:36:09  2512.0   \n",
       "1                  NaN   instrument  2013-05-14 05:20:50   482.0   \n",
       "2  industrial-strength       module  2014-02-04 19:28:32  2446.0   \n",
       "\n",
       "        modifier                             name  price  \n",
       "0  carrying_case  fuzzy contraption carrying_case  150.0  \n",
       "1         refill                instrument refill   35.2  \n",
       "2            NaN       industrial-strength module  300.0  "
      ]
     },
     "metadata": {},
     "output_type": "display_data"
    }
   ],
   "source": [
    "head_df = df.head(3)\n",
    "display(head_df)"
   ]
  },
  {
   "cell_type": "markdown",
   "metadata": {},
   "source": [
    "### Column data types"
   ]
  },
  {
   "cell_type": "code",
   "execution_count": 5,
   "metadata": {},
   "outputs": [
    {
     "data": {
      "text/html": [
       "<div>\n",
       "<style scoped>\n",
       "    .dataframe tbody tr th:only-of-type {\n",
       "        vertical-align: middle;\n",
       "    }\n",
       "\n",
       "    .dataframe tbody tr th {\n",
       "        vertical-align: top;\n",
       "    }\n",
       "\n",
       "    .dataframe thead tr th {\n",
       "        text-align: left;\n",
       "    }\n",
       "</style>\n",
       "<table border=\"1\" class=\"dataframe\">\n",
       "  <thead>\n",
       "    <tr>\n",
       "      <th></th>\n",
       "      <th>adjective</th>\n",
       "      <th>category</th>\n",
       "      <th>created_at</th>\n",
       "      <th>id</th>\n",
       "      <th>modifier</th>\n",
       "      <th>name</th>\n",
       "      <th>price</th>\n",
       "    </tr>\n",
       "  </thead>\n",
       "  <tbody>\n",
       "    <tr>\n",
       "      <th>0</th>\n",
       "      <td>object</td>\n",
       "      <td>object</td>\n",
       "      <td>object</td>\n",
       "      <td>float64</td>\n",
       "      <td>object</td>\n",
       "      <td>object</td>\n",
       "      <td>float64</td>\n",
       "    </tr>\n",
       "  </tbody>\n",
       "</table>\n",
       "</div>"
      ],
      "text/plain": [
       "  adjective category created_at       id modifier    name    price\n",
       "0    object   object     object  float64   object  object  float64"
      ]
     },
     "metadata": {},
     "output_type": "display_data"
    }
   ],
   "source": [
    "col_types = df.dtypes\n",
    "df_col_types = pd.DataFrame([col_types.values],columns=[df.columns])\n",
    "display(df_col_types)"
   ]
  },
  {
   "cell_type": "markdown",
   "metadata": {},
   "source": [
    "### Size of Dataset"
   ]
  },
  {
   "cell_type": "code",
   "execution_count": 6,
   "metadata": {},
   "outputs": [
    {
     "data": {
      "text/html": [
       "<div>\n",
       "<style scoped>\n",
       "    .dataframe tbody tr th:only-of-type {\n",
       "        vertical-align: middle;\n",
       "    }\n",
       "\n",
       "    .dataframe tbody tr th {\n",
       "        vertical-align: top;\n",
       "    }\n",
       "\n",
       "    .dataframe thead th {\n",
       "        text-align: right;\n",
       "    }\n",
       "</style>\n",
       "<table border=\"1\" class=\"dataframe\">\n",
       "  <thead>\n",
       "    <tr style=\"text-align: right;\">\n",
       "      <th></th>\n",
       "      <th>rows</th>\n",
       "      <th>cols</th>\n",
       "    </tr>\n",
       "  </thead>\n",
       "  <tbody>\n",
       "    <tr>\n",
       "      <th>0</th>\n",
       "      <td>2198</td>\n",
       "      <td>7</td>\n",
       "    </tr>\n",
       "  </tbody>\n",
       "</table>\n",
       "</div>"
      ],
      "text/plain": [
       "   rows  cols\n",
       "0  2198     7"
      ]
     },
     "metadata": {},
     "output_type": "display_data"
    }
   ],
   "source": [
    "shape_df = df.shape\n",
    "df_shape = pd.DataFrame([shape_df],columns = [\"rows\",\"cols\"])\n",
    "display(df_shape)"
   ]
  },
  {
   "cell_type": "markdown",
   "metadata": {},
   "source": [
    "### Non numerical columns"
   ]
  },
  {
   "cell_type": "code",
   "execution_count": 7,
   "metadata": {},
   "outputs": [
    {
     "data": {
      "text/html": [
       "<div>\n",
       "<style scoped>\n",
       "    .dataframe tbody tr th:only-of-type {\n",
       "        vertical-align: middle;\n",
       "    }\n",
       "\n",
       "    .dataframe tbody tr th {\n",
       "        vertical-align: top;\n",
       "    }\n",
       "\n",
       "    .dataframe thead th {\n",
       "        text-align: right;\n",
       "    }\n",
       "</style>\n",
       "<table border=\"1\" class=\"dataframe\">\n",
       "  <thead>\n",
       "    <tr style=\"text-align: right;\">\n",
       "      <th></th>\n",
       "      <th>adjective</th>\n",
       "      <th>category</th>\n",
       "      <th>created_at</th>\n",
       "      <th>modifier</th>\n",
       "      <th>name</th>\n",
       "    </tr>\n",
       "  </thead>\n",
       "  <tbody>\n",
       "    <tr>\n",
       "      <th>count</th>\n",
       "      <td>1926</td>\n",
       "      <td>2198</td>\n",
       "      <td>2198</td>\n",
       "      <td>1432</td>\n",
       "      <td>2198</td>\n",
       "    </tr>\n",
       "    <tr>\n",
       "      <th>unique</th>\n",
       "      <td>13</td>\n",
       "      <td>10</td>\n",
       "      <td>2198</td>\n",
       "      <td>9</td>\n",
       "      <td>1011</td>\n",
       "    </tr>\n",
       "    <tr>\n",
       "      <th>top</th>\n",
       "      <td>reflective</td>\n",
       "      <td>instrument</td>\n",
       "      <td>2014-01-15 21:36:09</td>\n",
       "      <td>storage_unit</td>\n",
       "      <td>apparatus</td>\n",
       "    </tr>\n",
       "    <tr>\n",
       "      <th>freq</th>\n",
       "      <td>168</td>\n",
       "      <td>239</td>\n",
       "      <td>1</td>\n",
       "      <td>186</td>\n",
       "      <td>13</td>\n",
       "    </tr>\n",
       "  </tbody>\n",
       "</table>\n",
       "</div>"
      ],
      "text/plain": [
       "         adjective    category           created_at      modifier       name\n",
       "count         1926        2198                 2198          1432       2198\n",
       "unique          13          10                 2198             9       1011\n",
       "top     reflective  instrument  2014-01-15 21:36:09  storage_unit  apparatus\n",
       "freq           168         239                    1           186         13"
      ]
     },
     "metadata": {},
     "output_type": "display_data"
    }
   ],
   "source": [
    "describe_non_numerical = df.describe(exclude=[np.number])\n",
    "display(describe_non_numerical)"
   ]
  },
  {
   "cell_type": "markdown",
   "metadata": {},
   "source": [
    "### All columns general stats"
   ]
  },
  {
   "cell_type": "code",
   "execution_count": 8,
   "metadata": {},
   "outputs": [
    {
     "data": {
      "text/html": [
       "<div>\n",
       "<style scoped>\n",
       "    .dataframe tbody tr th:only-of-type {\n",
       "        vertical-align: middle;\n",
       "    }\n",
       "\n",
       "    .dataframe tbody tr th {\n",
       "        vertical-align: top;\n",
       "    }\n",
       "\n",
       "    .dataframe thead th {\n",
       "        text-align: right;\n",
       "    }\n",
       "</style>\n",
       "<table border=\"1\" class=\"dataframe\">\n",
       "  <thead>\n",
       "    <tr style=\"text-align: right;\">\n",
       "      <th></th>\n",
       "      <th>adjective</th>\n",
       "      <th>category</th>\n",
       "      <th>created_at</th>\n",
       "      <th>id</th>\n",
       "      <th>modifier</th>\n",
       "      <th>name</th>\n",
       "      <th>price</th>\n",
       "    </tr>\n",
       "  </thead>\n",
       "  <tbody>\n",
       "    <tr>\n",
       "      <th>count</th>\n",
       "      <td>1926</td>\n",
       "      <td>2198</td>\n",
       "      <td>2198</td>\n",
       "      <td>2198.000000</td>\n",
       "      <td>1432</td>\n",
       "      <td>2198</td>\n",
       "      <td>2198.000000</td>\n",
       "    </tr>\n",
       "    <tr>\n",
       "      <th>unique</th>\n",
       "      <td>13</td>\n",
       "      <td>10</td>\n",
       "      <td>2198</td>\n",
       "      <td>NaN</td>\n",
       "      <td>9</td>\n",
       "      <td>1011</td>\n",
       "      <td>NaN</td>\n",
       "    </tr>\n",
       "    <tr>\n",
       "      <th>top</th>\n",
       "      <td>reflective</td>\n",
       "      <td>instrument</td>\n",
       "      <td>2014-01-15 21:36:09</td>\n",
       "      <td>NaN</td>\n",
       "      <td>storage_unit</td>\n",
       "      <td>apparatus</td>\n",
       "      <td>NaN</td>\n",
       "    </tr>\n",
       "    <tr>\n",
       "      <th>freq</th>\n",
       "      <td>168</td>\n",
       "      <td>239</td>\n",
       "      <td>1</td>\n",
       "      <td>NaN</td>\n",
       "      <td>186</td>\n",
       "      <td>13</td>\n",
       "      <td>NaN</td>\n",
       "    </tr>\n",
       "    <tr>\n",
       "      <th>mean</th>\n",
       "      <td>NaN</td>\n",
       "      <td>NaN</td>\n",
       "      <td>NaN</td>\n",
       "      <td>1991.293904</td>\n",
       "      <td>NaN</td>\n",
       "      <td>NaN</td>\n",
       "      <td>98.157420</td>\n",
       "    </tr>\n",
       "    <tr>\n",
       "      <th>std</th>\n",
       "      <td>NaN</td>\n",
       "      <td>NaN</td>\n",
       "      <td>NaN</td>\n",
       "      <td>1163.964428</td>\n",
       "      <td>NaN</td>\n",
       "      <td>NaN</td>\n",
       "      <td>156.059937</td>\n",
       "    </tr>\n",
       "    <tr>\n",
       "      <th>min</th>\n",
       "      <td>NaN</td>\n",
       "      <td>NaN</td>\n",
       "      <td>NaN</td>\n",
       "      <td>0.000000</td>\n",
       "      <td>NaN</td>\n",
       "      <td>NaN</td>\n",
       "      <td>0.000000</td>\n",
       "    </tr>\n",
       "    <tr>\n",
       "      <th>25%</th>\n",
       "      <td>NaN</td>\n",
       "      <td>NaN</td>\n",
       "      <td>NaN</td>\n",
       "      <td>981.250000</td>\n",
       "      <td>NaN</td>\n",
       "      <td>NaN</td>\n",
       "      <td>13.750000</td>\n",
       "    </tr>\n",
       "    <tr>\n",
       "      <th>50%</th>\n",
       "      <td>NaN</td>\n",
       "      <td>NaN</td>\n",
       "      <td>NaN</td>\n",
       "      <td>2008.000000</td>\n",
       "      <td>NaN</td>\n",
       "      <td>NaN</td>\n",
       "      <td>42.000000</td>\n",
       "    </tr>\n",
       "    <tr>\n",
       "      <th>75%</th>\n",
       "      <td>NaN</td>\n",
       "      <td>NaN</td>\n",
       "      <td>NaN</td>\n",
       "      <td>2994.500000</td>\n",
       "      <td>NaN</td>\n",
       "      <td>NaN</td>\n",
       "      <td>115.700000</td>\n",
       "    </tr>\n",
       "    <tr>\n",
       "      <th>max</th>\n",
       "      <td>NaN</td>\n",
       "      <td>NaN</td>\n",
       "      <td>NaN</td>\n",
       "      <td>3997.000000</td>\n",
       "      <td>NaN</td>\n",
       "      <td>NaN</td>\n",
       "      <td>2250.000000</td>\n",
       "    </tr>\n",
       "  </tbody>\n",
       "</table>\n",
       "</div>"
      ],
      "text/plain": [
       "         adjective    category           created_at           id  \\\n",
       "count         1926        2198                 2198  2198.000000   \n",
       "unique          13          10                 2198          NaN   \n",
       "top     reflective  instrument  2014-01-15 21:36:09          NaN   \n",
       "freq           168         239                    1          NaN   \n",
       "mean           NaN         NaN                  NaN  1991.293904   \n",
       "std            NaN         NaN                  NaN  1163.964428   \n",
       "min            NaN         NaN                  NaN     0.000000   \n",
       "25%            NaN         NaN                  NaN   981.250000   \n",
       "50%            NaN         NaN                  NaN  2008.000000   \n",
       "75%            NaN         NaN                  NaN  2994.500000   \n",
       "max            NaN         NaN                  NaN  3997.000000   \n",
       "\n",
       "            modifier       name        price  \n",
       "count           1432       2198  2198.000000  \n",
       "unique             9       1011          NaN  \n",
       "top     storage_unit  apparatus          NaN  \n",
       "freq             186         13          NaN  \n",
       "mean             NaN        NaN    98.157420  \n",
       "std              NaN        NaN   156.059937  \n",
       "min              NaN        NaN     0.000000  \n",
       "25%              NaN        NaN    13.750000  \n",
       "50%              NaN        NaN    42.000000  \n",
       "75%              NaN        NaN   115.700000  \n",
       "max              NaN        NaN  2250.000000  "
      ]
     },
     "metadata": {},
     "output_type": "display_data"
    }
   ],
   "source": [
    "describe_all_cols = df.describe(include='all')\n",
    "display(describe_all_cols)"
   ]
  },
  {
   "cell_type": "markdown",
   "metadata": {},
   "source": [
    "### Detect candidate key columns (Unique columns)"
   ]
  },
  {
   "cell_type": "code",
   "execution_count": 9,
   "metadata": {},
   "outputs": [
    {
     "data": {
      "text/html": [
       "<div>\n",
       "<style scoped>\n",
       "    .dataframe tbody tr th:only-of-type {\n",
       "        vertical-align: middle;\n",
       "    }\n",
       "\n",
       "    .dataframe tbody tr th {\n",
       "        vertical-align: top;\n",
       "    }\n",
       "\n",
       "    .dataframe thead th {\n",
       "        text-align: right;\n",
       "    }\n",
       "</style>\n",
       "<table border=\"1\" class=\"dataframe\">\n",
       "  <thead>\n",
       "    <tr style=\"text-align: right;\">\n",
       "      <th></th>\n",
       "      <th>unique_val_holding_cols</th>\n",
       "    </tr>\n",
       "  </thead>\n",
       "  <tbody>\n",
       "    <tr>\n",
       "      <th>0</th>\n",
       "      <td>created_at</td>\n",
       "    </tr>\n",
       "    <tr>\n",
       "      <th>1</th>\n",
       "      <td>id</td>\n",
       "    </tr>\n",
       "  </tbody>\n",
       "</table>\n",
       "</div>"
      ],
      "text/plain": [
       "  unique_val_holding_cols\n",
       "0              created_at\n",
       "1                      id"
      ]
     },
     "metadata": {},
     "output_type": "display_data"
    }
   ],
   "source": [
    "unique_val_holding_cols = [i for i in df.columns if len(df[i]) == len(pd.unique(df[i]))]\n",
    "df_unique = pd.DataFrame(unique_val_holding_cols,columns = [\"unique_val_holding_cols\"])\n",
    "display(df_unique)"
   ]
  },
  {
   "cell_type": "markdown",
   "metadata": {},
   "source": [
    "### Null value counts per column"
   ]
  },
  {
   "cell_type": "code",
   "execution_count": 10,
   "metadata": {},
   "outputs": [
    {
     "data": {
      "text/html": [
       "<div>\n",
       "<style scoped>\n",
       "    .dataframe tbody tr th:only-of-type {\n",
       "        vertical-align: middle;\n",
       "    }\n",
       "\n",
       "    .dataframe tbody tr th {\n",
       "        vertical-align: top;\n",
       "    }\n",
       "\n",
       "    .dataframe thead th {\n",
       "        text-align: right;\n",
       "    }\n",
       "</style>\n",
       "<table border=\"1\" class=\"dataframe\">\n",
       "  <thead>\n",
       "    <tr style=\"text-align: right;\">\n",
       "      <th></th>\n",
       "      <th>adjective</th>\n",
       "      <th>category</th>\n",
       "      <th>created_at</th>\n",
       "      <th>id</th>\n",
       "      <th>modifier</th>\n",
       "      <th>name</th>\n",
       "      <th>price</th>\n",
       "    </tr>\n",
       "  </thead>\n",
       "  <tbody>\n",
       "    <tr>\n",
       "      <th>0</th>\n",
       "      <td>272</td>\n",
       "      <td>0</td>\n",
       "      <td>0</td>\n",
       "      <td>0</td>\n",
       "      <td>766</td>\n",
       "      <td>0</td>\n",
       "      <td>0</td>\n",
       "    </tr>\n",
       "  </tbody>\n",
       "</table>\n",
       "</div>"
      ],
      "text/plain": [
       "   adjective  category  created_at  id  modifier  name  price\n",
       "0        272         0           0   0       766     0      0"
      ]
     },
     "metadata": {},
     "output_type": "display_data"
    }
   ],
   "source": [
    "null_val_holding_cols = [df[i].isna().sum() for i in df.columns]\n",
    "df_null = pd.DataFrame([null_val_holding_cols],columns = df.columns)\n",
    "display(df_null)"
   ]
  },
  {
   "cell_type": "markdown",
   "metadata": {},
   "source": [
    "### Detect JSON Column by col values"
   ]
  },
  {
   "cell_type": "code",
   "execution_count": 11,
   "metadata": {},
   "outputs": [
    {
     "data": {
      "text/html": [
       "<div>\n",
       "<style scoped>\n",
       "    .dataframe tbody tr th:only-of-type {\n",
       "        vertical-align: middle;\n",
       "    }\n",
       "\n",
       "    .dataframe tbody tr th {\n",
       "        vertical-align: top;\n",
       "    }\n",
       "\n",
       "    .dataframe thead th {\n",
       "        text-align: right;\n",
       "    }\n",
       "</style>\n",
       "<table border=\"1\" class=\"dataframe\">\n",
       "  <thead>\n",
       "    <tr style=\"text-align: right;\">\n",
       "      <th></th>\n",
       "      <th>col_with_json_val</th>\n",
       "    </tr>\n",
       "  </thead>\n",
       "  <tbody>\n",
       "  </tbody>\n",
       "</table>\n",
       "</div>"
      ],
      "text/plain": [
       "Empty DataFrame\n",
       "Columns: [col_with_json_val]\n",
       "Index: []"
      ]
     },
     "metadata": {},
     "output_type": "display_data"
    }
   ],
   "source": [
    "# Detect JSON Column by col name\n",
    "# col_with_dot_char = [df[i].name for i in df.columns if \".\" in df[i].name]\n",
    "# print(col_with_dot_char)\n",
    "\n",
    "col_with_json_val = [df[i].name for i in df.columns if \"{\" in str(df[i].iloc[0])]\n",
    "df_json_cols = pd.DataFrame(col_with_json_val,columns = [\"col_with_json_val\"])\n",
    "display(df_json_cols)"
   ]
  },
  {
   "cell_type": "markdown",
   "metadata": {},
   "source": [
    "### Detect XML Column by col values"
   ]
  },
  {
   "cell_type": "code",
   "execution_count": 12,
   "metadata": {},
   "outputs": [
    {
     "data": {
      "text/html": [
       "<div>\n",
       "<style scoped>\n",
       "    .dataframe tbody tr th:only-of-type {\n",
       "        vertical-align: middle;\n",
       "    }\n",
       "\n",
       "    .dataframe tbody tr th {\n",
       "        vertical-align: top;\n",
       "    }\n",
       "\n",
       "    .dataframe thead th {\n",
       "        text-align: right;\n",
       "    }\n",
       "</style>\n",
       "<table border=\"1\" class=\"dataframe\">\n",
       "  <thead>\n",
       "    <tr style=\"text-align: right;\">\n",
       "      <th></th>\n",
       "      <th>col_with_xml_val</th>\n",
       "    </tr>\n",
       "  </thead>\n",
       "  <tbody>\n",
       "  </tbody>\n",
       "</table>\n",
       "</div>"
      ],
      "text/plain": [
       "Empty DataFrame\n",
       "Columns: [col_with_xml_val]\n",
       "Index: []"
      ]
     },
     "metadata": {},
     "output_type": "display_data"
    }
   ],
   "source": [
    "col_with_xml_val = [df[i].name for i in df.columns if \"<\" in str(df[i].iloc[0])]\n",
    "df_xml_cols = pd.DataFrame(col_with_xml_val,columns = [\"col_with_xml_val\"])\n",
    "display(df_xml_cols)"
   ]
  },
  {
   "cell_type": "markdown",
   "metadata": {},
   "source": [
    "### Detect Date-Time Columns"
   ]
  },
  {
   "cell_type": "code",
   "execution_count": 13,
   "metadata": {},
   "outputs": [
    {
     "data": {
      "text/html": [
       "<div>\n",
       "<style scoped>\n",
       "    .dataframe tbody tr th:only-of-type {\n",
       "        vertical-align: middle;\n",
       "    }\n",
       "\n",
       "    .dataframe tbody tr th {\n",
       "        vertical-align: top;\n",
       "    }\n",
       "\n",
       "    .dataframe thead th {\n",
       "        text-align: right;\n",
       "    }\n",
       "</style>\n",
       "<table border=\"1\" class=\"dataframe\">\n",
       "  <thead>\n",
       "    <tr style=\"text-align: right;\">\n",
       "      <th></th>\n",
       "      <th>col_date_time</th>\n",
       "    </tr>\n",
       "  </thead>\n",
       "  <tbody>\n",
       "    <tr>\n",
       "      <th>0</th>\n",
       "      <td>created_at</td>\n",
       "    </tr>\n",
       "  </tbody>\n",
       "</table>\n",
       "</div>"
      ],
      "text/plain": [
       "  col_date_time\n",
       "0    created_at"
      ]
     },
     "metadata": {},
     "output_type": "display_data"
    }
   ],
   "source": [
    "#Regex pattern detect date-time columns\n",
    "pattern_dt = re.compile(r\"[0-9]{4}.[0-9]{2}.[0-9]{2}\\s[0-9]{2}.[0-9]{2}.[0-9]{2}(\\.[0-9]{1,3})?\", re.IGNORECASE)\n",
    "#Loop through columns detect date-time columns\n",
    "col_date_time = [df[i].name for i in df.columns if pattern_dt.match(str(df[i].iloc[0]))]\n",
    "df_date_time_cols = pd.DataFrame(col_date_time,columns = [\"col_date_time\"])\n",
    "display(df_date_time_cols)"
   ]
  },
  {
   "cell_type": "markdown",
   "metadata": {},
   "source": [
    "### Detect Date Columns"
   ]
  },
  {
   "cell_type": "code",
   "execution_count": 14,
   "metadata": {},
   "outputs": [
    {
     "data": {
      "text/html": [
       "<div>\n",
       "<style scoped>\n",
       "    .dataframe tbody tr th:only-of-type {\n",
       "        vertical-align: middle;\n",
       "    }\n",
       "\n",
       "    .dataframe tbody tr th {\n",
       "        vertical-align: top;\n",
       "    }\n",
       "\n",
       "    .dataframe thead th {\n",
       "        text-align: right;\n",
       "    }\n",
       "</style>\n",
       "<table border=\"1\" class=\"dataframe\">\n",
       "  <thead>\n",
       "    <tr style=\"text-align: right;\">\n",
       "      <th></th>\n",
       "      <th>col_date_time</th>\n",
       "    </tr>\n",
       "  </thead>\n",
       "  <tbody>\n",
       "    <tr>\n",
       "      <th>0</th>\n",
       "      <td>created_at</td>\n",
       "    </tr>\n",
       "  </tbody>\n",
       "</table>\n",
       "</div>"
      ],
      "text/plain": [
       "  col_date_time\n",
       "0    created_at"
      ]
     },
     "metadata": {},
     "output_type": "display_data"
    }
   ],
   "source": [
    "#Regex pattern for date columns\n",
    "pattern_d = re.compile(r\"[0-9]{4}.[0-9]{2}.[0-9]{2}\", re.IGNORECASE)\n",
    "#Loop through columns detect date columns\n",
    "col_date_time = [df[i].name for i in df.columns if pattern_dt.match(str(df[i].iloc[0]))]\n",
    "df_date_time_cols = pd.DataFrame(col_date_time,columns = [\"col_date_time\"])\n",
    "display(df_date_time_cols)"
   ]
  }
 ],
 "metadata": {
  "kernelspec": {
   "display_name": "Python 3",
   "language": "python",
   "name": "python3"
  },
  "language_info": {
   "codemirror_mode": {
    "name": "ipython",
    "version": 3
   },
   "file_extension": ".py",
   "mimetype": "text/x-python",
   "name": "python",
   "nbconvert_exporter": "python",
   "pygments_lexer": "ipython3",
   "version": "3.10.13"
  }
 },
 "nbformat": 4,
 "nbformat_minor": 2
}
