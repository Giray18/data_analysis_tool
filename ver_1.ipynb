{
 "cells": [
  {
   "cell_type": "markdown",
   "metadata": {},
   "source": [
    "## Package Imports"
   ]
  },
  {
   "cell_type": "code",
   "execution_count": 88,
   "metadata": {},
   "outputs": [],
   "source": [
    "import pandas as pd\n",
    "import numpy as np\n",
    "import re\n",
    "import json\n",
    "import boto3\n",
    "import s3fs\n",
    "from azure.storage.blob import BlobServiceClient, generate_account_sas, ResourceTypes, AccountSasPermissions\n",
    "import tables\n",
    "from datetime import datetime, timedelta\n"
   ]
  },
  {
   "cell_type": "markdown",
   "metadata": {},
   "source": [
    "## Read dataset from public cloud storage"
   ]
  },
  {
   "cell_type": "code",
   "execution_count": 89,
   "metadata": {},
   "outputs": [],
   "source": [
    "# def read_prefix_to_df(prefix):\n",
    "#     s3 = boto3.resource('s3')\n",
    "#     bucket = s3.Bucket('test-bucket')\n",
    "#     prefix_objs = bucket.objects.filter(Prefix=prefix)\n",
    "#     prefix_df = []\n",
    "#     for obj in prefix_objs:\n",
    "#         key = obj.key\n",
    "#         body = obj.get()['Body'].read()\n",
    "#         df = pd.DataFrame(body)\n",
    "#         prefix_df.append(df)\n",
    "#     return pd.concat(prefix_df)"
   ]
  },
  {
   "cell_type": "code",
   "execution_count": 90,
   "metadata": {},
   "outputs": [],
   "source": [
    "data_location = input(\"From which location we are reading data?\").lower()\n",
    "if data_location in [\"aws\",\"s3\",\"amazon\"]:\n",
    "    AWS_S3_BUCKET = input(\"Your file location please\")\n",
    "    file_name = input(\"Your full file name please (with extension)\")\n",
    "    if \"csv\" in file_name.split(\".\"):\n",
    "        file_name = file_name.split(\".\")\n",
    "        df = pd.read_csv(f\"s3://{AWS_S3_BUCKET}/{file_name[0]}.csv\")\n",
    "    elif \"parquet\" or \"pqt\" in file_name.split(\".\"):\n",
    "        file_name = file_name.split(\".\")\n",
    "        df = pd.read_parquet(f\"s3://{AWS_S3_BUCKET}/de/{file_name[0]}.parquet\")\n",
    "    else:\n",
    "        print(\"Unavailable file format\")\n",
    "# Not confirmed yet to be developed by reading mechanisim\n",
    "elif data_location in [\"azure\",\"blob\"]:\n",
    "    ACCOUNT_NAME = input(\"Your Azure account name please\")\n",
    "    STORAGE_ACCOUNT_NAME = input(\"Your Azure account storage name please\")\n",
    "    ACCOUNT_KEY = input(\"Your Azure account key please\")\n",
    "    file_name = input(\"Your full file name please (with extension)\")\n",
    "    blob_name = input(\"Your blob name please\")\n",
    "    container_name = input(\"Your container name please\")\n",
    "    # Creating temp sas token\n",
    "    sas_token = generate_account_sas(\n",
    "    account_name=\"{STORAGE_ACCOUNT_NAME}\",\n",
    "    account_key=\"{ACCOUNT_KEY}\",\n",
    "    resource_types=ResourceTypes(service=True),\n",
    "    permission=AccountSasPermissions(read=True),\n",
    "    expiry=datetime.utcnow() + timedelta(hours=1)\n",
    "    )\n",
    "    # Creating service client var \n",
    "    blob_service_client = BlobServiceClient(account_url=f\"https://{ACCOUNT_NAME}.blob.core.windows.net\"\n",
    "                                            , credential=sas_token)\n",
    "    blob_service_client.get_blob_to_path(container_name,blob_name,file_name)\n",
    "    if \"csv\" in file_name.split(\".\"):\n",
    "        file_name = file_name.split(\".\")\n",
    "        df = pd.read_csv(f\"{file_name}\")\n",
    "    elif \"parquet\" or \"pqt\" in file_name.split(\".\"):\n",
    "        file_name = file_name.split(\".\")\n",
    "        df = pd.read_parquet(f\"{file_name}\")\n",
    "    else:\n",
    "        print(\"Unavailable file format\")\n",
    "else:\n",
    "    print(\"no connector available from given file source location\")\n",
    "\n"
   ]
  },
  {
   "cell_type": "markdown",
   "metadata": {},
   "source": [
    "## General Details over Dataset"
   ]
  },
  {
   "cell_type": "markdown",
   "metadata": {},
   "source": [
    "### Head rows of Dataset"
   ]
  },
  {
   "cell_type": "code",
   "execution_count": 91,
   "metadata": {},
   "outputs": [
    {
     "data": {
      "text/html": [
       "<div>\n",
       "<style scoped>\n",
       "    .dataframe tbody tr th:only-of-type {\n",
       "        vertical-align: middle;\n",
       "    }\n",
       "\n",
       "    .dataframe tbody tr th {\n",
       "        vertical-align: top;\n",
       "    }\n",
       "\n",
       "    .dataframe thead th {\n",
       "        text-align: right;\n",
       "    }\n",
       "</style>\n",
       "<table border=\"1\" class=\"dataframe\">\n",
       "  <thead>\n",
       "    <tr style=\"text-align: right;\">\n",
       "      <th></th>\n",
       "      <th>event_id</th>\n",
       "      <th>event_time</th>\n",
       "      <th>user_id</th>\n",
       "      <th>event.payload</th>\n",
       "    </tr>\n",
       "  </thead>\n",
       "  <tbody>\n",
       "    <tr>\n",
       "      <th>0</th>\n",
       "      <td>b9de71c5c3cc4cd7a97e50b832106e5a</td>\n",
       "      <td>2017-06-26 11:23:39</td>\n",
       "      <td>178481.0</td>\n",
       "      <td>{\"event_name\":\"view_item\",\"platform\":\"android\"...</td>\n",
       "    </tr>\n",
       "    <tr>\n",
       "      <th>1</th>\n",
       "      <td>23267713c9ea44419331731f50b6a8db</td>\n",
       "      <td>2017-06-27 10:46:39</td>\n",
       "      <td>178481.0</td>\n",
       "      <td>{\"event_name\":\"view_item\",\"platform\":\"android\"...</td>\n",
       "    </tr>\n",
       "    <tr>\n",
       "      <th>2</th>\n",
       "      <td>1b7822fa7b854e01970218ae8f721fe0</td>\n",
       "      <td>2017-06-27 11:15:39</td>\n",
       "      <td>178481.0</td>\n",
       "      <td>{\"event_name\":\"view_item\",\"platform\":\"android\"...</td>\n",
       "    </tr>\n",
       "  </tbody>\n",
       "</table>\n",
       "</div>"
      ],
      "text/plain": [
       "                           event_id           event_time   user_id  \\\n",
       "0  b9de71c5c3cc4cd7a97e50b832106e5a  2017-06-26 11:23:39  178481.0   \n",
       "1  23267713c9ea44419331731f50b6a8db  2017-06-27 10:46:39  178481.0   \n",
       "2  1b7822fa7b854e01970218ae8f721fe0  2017-06-27 11:15:39  178481.0   \n",
       "\n",
       "                                       event.payload  \n",
       "0  {\"event_name\":\"view_item\",\"platform\":\"android\"...  \n",
       "1  {\"event_name\":\"view_item\",\"platform\":\"android\"...  \n",
       "2  {\"event_name\":\"view_item\",\"platform\":\"android\"...  "
      ]
     },
     "metadata": {},
     "output_type": "display_data"
    }
   ],
   "source": [
    "head_df = df.head(3)\n",
    "display(head_df)"
   ]
  },
  {
   "cell_type": "markdown",
   "metadata": {},
   "source": [
    "### Column data types"
   ]
  },
  {
   "cell_type": "code",
   "execution_count": 92,
   "metadata": {},
   "outputs": [
    {
     "data": {
      "text/html": [
       "<div>\n",
       "<style scoped>\n",
       "    .dataframe tbody tr th:only-of-type {\n",
       "        vertical-align: middle;\n",
       "    }\n",
       "\n",
       "    .dataframe tbody tr th {\n",
       "        vertical-align: top;\n",
       "    }\n",
       "\n",
       "    .dataframe thead tr th {\n",
       "        text-align: left;\n",
       "    }\n",
       "</style>\n",
       "<table border=\"1\" class=\"dataframe\">\n",
       "  <thead>\n",
       "    <tr>\n",
       "      <th></th>\n",
       "      <th>event_id</th>\n",
       "      <th>event_time</th>\n",
       "      <th>user_id</th>\n",
       "      <th>event.payload</th>\n",
       "    </tr>\n",
       "  </thead>\n",
       "  <tbody>\n",
       "    <tr>\n",
       "      <th>0</th>\n",
       "      <td>object</td>\n",
       "      <td>object</td>\n",
       "      <td>float64</td>\n",
       "      <td>object</td>\n",
       "    </tr>\n",
       "  </tbody>\n",
       "</table>\n",
       "</div>"
      ],
      "text/plain": [
       "  event_id event_time  user_id event.payload\n",
       "0   object     object  float64        object"
      ]
     },
     "metadata": {},
     "output_type": "display_data"
    }
   ],
   "source": [
    "col_types = df.dtypes\n",
    "df_col_types = pd.DataFrame([col_types.values],columns=[df.columns])\n",
    "display(df_col_types)"
   ]
  },
  {
   "cell_type": "markdown",
   "metadata": {},
   "source": [
    "### Size of Dataset"
   ]
  },
  {
   "cell_type": "code",
   "execution_count": 93,
   "metadata": {},
   "outputs": [
    {
     "data": {
      "text/html": [
       "<div>\n",
       "<style scoped>\n",
       "    .dataframe tbody tr th:only-of-type {\n",
       "        vertical-align: middle;\n",
       "    }\n",
       "\n",
       "    .dataframe tbody tr th {\n",
       "        vertical-align: top;\n",
       "    }\n",
       "\n",
       "    .dataframe thead th {\n",
       "        text-align: right;\n",
       "    }\n",
       "</style>\n",
       "<table border=\"1\" class=\"dataframe\">\n",
       "  <thead>\n",
       "    <tr style=\"text-align: right;\">\n",
       "      <th></th>\n",
       "      <th>rows</th>\n",
       "      <th>cols</th>\n",
       "    </tr>\n",
       "  </thead>\n",
       "  <tbody>\n",
       "    <tr>\n",
       "      <th>0</th>\n",
       "      <td>853640</td>\n",
       "      <td>4</td>\n",
       "    </tr>\n",
       "  </tbody>\n",
       "</table>\n",
       "</div>"
      ],
      "text/plain": [
       "     rows  cols\n",
       "0  853640     4"
      ]
     },
     "metadata": {},
     "output_type": "display_data"
    }
   ],
   "source": [
    "shape_df = df.shape\n",
    "df_shape = pd.DataFrame([shape_df],columns = [\"rows\",\"cols\"])\n",
    "display(df_shape)"
   ]
  },
  {
   "cell_type": "markdown",
   "metadata": {},
   "source": [
    "### Non numerical columns"
   ]
  },
  {
   "cell_type": "code",
   "execution_count": 94,
   "metadata": {},
   "outputs": [
    {
     "data": {
      "text/html": [
       "<div>\n",
       "<style scoped>\n",
       "    .dataframe tbody tr th:only-of-type {\n",
       "        vertical-align: middle;\n",
       "    }\n",
       "\n",
       "    .dataframe tbody tr th {\n",
       "        vertical-align: top;\n",
       "    }\n",
       "\n",
       "    .dataframe thead th {\n",
       "        text-align: right;\n",
       "    }\n",
       "</style>\n",
       "<table border=\"1\" class=\"dataframe\">\n",
       "  <thead>\n",
       "    <tr style=\"text-align: right;\">\n",
       "      <th></th>\n",
       "      <th>event_id</th>\n",
       "      <th>event_time</th>\n",
       "      <th>event.payload</th>\n",
       "    </tr>\n",
       "  </thead>\n",
       "  <tbody>\n",
       "    <tr>\n",
       "      <th>count</th>\n",
       "      <td>853640</td>\n",
       "      <td>853640</td>\n",
       "      <td>853640</td>\n",
       "    </tr>\n",
       "    <tr>\n",
       "      <th>unique</th>\n",
       "      <td>428364</td>\n",
       "      <td>266020</td>\n",
       "      <td>11891</td>\n",
       "    </tr>\n",
       "    <tr>\n",
       "      <th>top</th>\n",
       "      <td>b9de71c5c3cc4cd7a97e50b832106e5a</td>\n",
       "      <td>2013-05-25 15:22:54</td>\n",
       "      <td>{\"event_name\":\"test_assignment\",\"platform\":\"se...</td>\n",
       "    </tr>\n",
       "    <tr>\n",
       "      <th>freq</th>\n",
       "      <td>2</td>\n",
       "      <td>2256</td>\n",
       "      <td>82693</td>\n",
       "    </tr>\n",
       "  </tbody>\n",
       "</table>\n",
       "</div>"
      ],
      "text/plain": [
       "                                event_id           event_time  \\\n",
       "count                             853640               853640   \n",
       "unique                            428364               266020   \n",
       "top     b9de71c5c3cc4cd7a97e50b832106e5a  2013-05-25 15:22:54   \n",
       "freq                                   2                 2256   \n",
       "\n",
       "                                            event.payload  \n",
       "count                                              853640  \n",
       "unique                                              11891  \n",
       "top     {\"event_name\":\"test_assignment\",\"platform\":\"se...  \n",
       "freq                                                82693  "
      ]
     },
     "metadata": {},
     "output_type": "display_data"
    }
   ],
   "source": [
    "describe_non_numerical = df.describe(exclude=[np.number])\n",
    "display(describe_non_numerical)"
   ]
  },
  {
   "cell_type": "markdown",
   "metadata": {},
   "source": [
    "### All columns general stats"
   ]
  },
  {
   "cell_type": "code",
   "execution_count": 95,
   "metadata": {},
   "outputs": [
    {
     "data": {
      "text/html": [
       "<div>\n",
       "<style scoped>\n",
       "    .dataframe tbody tr th:only-of-type {\n",
       "        vertical-align: middle;\n",
       "    }\n",
       "\n",
       "    .dataframe tbody tr th {\n",
       "        vertical-align: top;\n",
       "    }\n",
       "\n",
       "    .dataframe thead th {\n",
       "        text-align: right;\n",
       "    }\n",
       "</style>\n",
       "<table border=\"1\" class=\"dataframe\">\n",
       "  <thead>\n",
       "    <tr style=\"text-align: right;\">\n",
       "      <th></th>\n",
       "      <th>event_id</th>\n",
       "      <th>event_time</th>\n",
       "      <th>user_id</th>\n",
       "      <th>event.payload</th>\n",
       "    </tr>\n",
       "  </thead>\n",
       "  <tbody>\n",
       "    <tr>\n",
       "      <th>count</th>\n",
       "      <td>853640</td>\n",
       "      <td>853640</td>\n",
       "      <td>853640.000000</td>\n",
       "      <td>853640</td>\n",
       "    </tr>\n",
       "    <tr>\n",
       "      <th>unique</th>\n",
       "      <td>428364</td>\n",
       "      <td>266020</td>\n",
       "      <td>NaN</td>\n",
       "      <td>11891</td>\n",
       "    </tr>\n",
       "    <tr>\n",
       "      <th>top</th>\n",
       "      <td>b9de71c5c3cc4cd7a97e50b832106e5a</td>\n",
       "      <td>2013-05-25 15:22:54</td>\n",
       "      <td>NaN</td>\n",
       "      <td>{\"event_name\":\"test_assignment\",\"platform\":\"se...</td>\n",
       "    </tr>\n",
       "    <tr>\n",
       "      <th>freq</th>\n",
       "      <td>2</td>\n",
       "      <td>2256</td>\n",
       "      <td>NaN</td>\n",
       "      <td>82693</td>\n",
       "    </tr>\n",
       "    <tr>\n",
       "      <th>mean</th>\n",
       "      <td>NaN</td>\n",
       "      <td>NaN</td>\n",
       "      <td>148577.068862</td>\n",
       "      <td>NaN</td>\n",
       "    </tr>\n",
       "    <tr>\n",
       "      <th>std</th>\n",
       "      <td>NaN</td>\n",
       "      <td>NaN</td>\n",
       "      <td>81385.659168</td>\n",
       "      <td>NaN</td>\n",
       "    </tr>\n",
       "    <tr>\n",
       "      <th>min</th>\n",
       "      <td>NaN</td>\n",
       "      <td>NaN</td>\n",
       "      <td>4.000000</td>\n",
       "      <td>NaN</td>\n",
       "    </tr>\n",
       "    <tr>\n",
       "      <th>25%</th>\n",
       "      <td>NaN</td>\n",
       "      <td>NaN</td>\n",
       "      <td>78613.000000</td>\n",
       "      <td>NaN</td>\n",
       "    </tr>\n",
       "    <tr>\n",
       "      <th>50%</th>\n",
       "      <td>NaN</td>\n",
       "      <td>NaN</td>\n",
       "      <td>153956.000000</td>\n",
       "      <td>NaN</td>\n",
       "    </tr>\n",
       "    <tr>\n",
       "      <th>75%</th>\n",
       "      <td>NaN</td>\n",
       "      <td>NaN</td>\n",
       "      <td>217284.000000</td>\n",
       "      <td>NaN</td>\n",
       "    </tr>\n",
       "    <tr>\n",
       "      <th>max</th>\n",
       "      <td>NaN</td>\n",
       "      <td>NaN</td>\n",
       "      <td>299977.000000</td>\n",
       "      <td>NaN</td>\n",
       "    </tr>\n",
       "  </tbody>\n",
       "</table>\n",
       "</div>"
      ],
      "text/plain": [
       "                                event_id           event_time        user_id  \\\n",
       "count                             853640               853640  853640.000000   \n",
       "unique                            428364               266020            NaN   \n",
       "top     b9de71c5c3cc4cd7a97e50b832106e5a  2013-05-25 15:22:54            NaN   \n",
       "freq                                   2                 2256            NaN   \n",
       "mean                                 NaN                  NaN  148577.068862   \n",
       "std                                  NaN                  NaN   81385.659168   \n",
       "min                                  NaN                  NaN       4.000000   \n",
       "25%                                  NaN                  NaN   78613.000000   \n",
       "50%                                  NaN                  NaN  153956.000000   \n",
       "75%                                  NaN                  NaN  217284.000000   \n",
       "max                                  NaN                  NaN  299977.000000   \n",
       "\n",
       "                                            event.payload  \n",
       "count                                              853640  \n",
       "unique                                              11891  \n",
       "top     {\"event_name\":\"test_assignment\",\"platform\":\"se...  \n",
       "freq                                                82693  \n",
       "mean                                                  NaN  \n",
       "std                                                   NaN  \n",
       "min                                                   NaN  \n",
       "25%                                                   NaN  \n",
       "50%                                                   NaN  \n",
       "75%                                                   NaN  \n",
       "max                                                   NaN  "
      ]
     },
     "metadata": {},
     "output_type": "display_data"
    }
   ],
   "source": [
    "describe_all_cols = df.describe(include='all')\n",
    "display(describe_all_cols)"
   ]
  },
  {
   "cell_type": "markdown",
   "metadata": {},
   "source": [
    "### Detect candidate key columns (Unique columns)"
   ]
  },
  {
   "cell_type": "code",
   "execution_count": 96,
   "metadata": {},
   "outputs": [
    {
     "data": {
      "text/html": [
       "<div>\n",
       "<style scoped>\n",
       "    .dataframe tbody tr th:only-of-type {\n",
       "        vertical-align: middle;\n",
       "    }\n",
       "\n",
       "    .dataframe tbody tr th {\n",
       "        vertical-align: top;\n",
       "    }\n",
       "\n",
       "    .dataframe thead th {\n",
       "        text-align: right;\n",
       "    }\n",
       "</style>\n",
       "<table border=\"1\" class=\"dataframe\">\n",
       "  <thead>\n",
       "    <tr style=\"text-align: right;\">\n",
       "      <th></th>\n",
       "      <th>unique_val_holding_cols</th>\n",
       "    </tr>\n",
       "  </thead>\n",
       "  <tbody>\n",
       "  </tbody>\n",
       "</table>\n",
       "</div>"
      ],
      "text/plain": [
       "Empty DataFrame\n",
       "Columns: [unique_val_holding_cols]\n",
       "Index: []"
      ]
     },
     "metadata": {},
     "output_type": "display_data"
    }
   ],
   "source": [
    "unique_val_holding_cols = [i for i in df.columns if len(df[i]) == len(pd.unique(df[i]))]\n",
    "df_unique = pd.DataFrame(unique_val_holding_cols,columns = [\"unique_val_holding_cols\"])\n",
    "display(df_unique)"
   ]
  },
  {
   "cell_type": "markdown",
   "metadata": {},
   "source": [
    "### Null value counts per column"
   ]
  },
  {
   "cell_type": "code",
   "execution_count": 97,
   "metadata": {},
   "outputs": [
    {
     "data": {
      "text/html": [
       "<div>\n",
       "<style scoped>\n",
       "    .dataframe tbody tr th:only-of-type {\n",
       "        vertical-align: middle;\n",
       "    }\n",
       "\n",
       "    .dataframe tbody tr th {\n",
       "        vertical-align: top;\n",
       "    }\n",
       "\n",
       "    .dataframe thead th {\n",
       "        text-align: right;\n",
       "    }\n",
       "</style>\n",
       "<table border=\"1\" class=\"dataframe\">\n",
       "  <thead>\n",
       "    <tr style=\"text-align: right;\">\n",
       "      <th></th>\n",
       "      <th>event_id</th>\n",
       "      <th>event_time</th>\n",
       "      <th>user_id</th>\n",
       "      <th>event.payload</th>\n",
       "    </tr>\n",
       "  </thead>\n",
       "  <tbody>\n",
       "    <tr>\n",
       "      <th>0</th>\n",
       "      <td>0</td>\n",
       "      <td>0</td>\n",
       "      <td>0</td>\n",
       "      <td>0</td>\n",
       "    </tr>\n",
       "  </tbody>\n",
       "</table>\n",
       "</div>"
      ],
      "text/plain": [
       "   event_id  event_time  user_id  event.payload\n",
       "0         0           0        0              0"
      ]
     },
     "metadata": {},
     "output_type": "display_data"
    }
   ],
   "source": [
    "null_val_holding_cols = [df[i].isna().sum() for i in df.columns]\n",
    "df_null = pd.DataFrame([null_val_holding_cols],columns = df.columns)\n",
    "display(df_null)"
   ]
  },
  {
   "cell_type": "markdown",
   "metadata": {},
   "source": [
    "### Detect JSON Column by col values"
   ]
  },
  {
   "cell_type": "code",
   "execution_count": 98,
   "metadata": {},
   "outputs": [
    {
     "data": {
      "text/html": [
       "<div>\n",
       "<style scoped>\n",
       "    .dataframe tbody tr th:only-of-type {\n",
       "        vertical-align: middle;\n",
       "    }\n",
       "\n",
       "    .dataframe tbody tr th {\n",
       "        vertical-align: top;\n",
       "    }\n",
       "\n",
       "    .dataframe thead th {\n",
       "        text-align: right;\n",
       "    }\n",
       "</style>\n",
       "<table border=\"1\" class=\"dataframe\">\n",
       "  <thead>\n",
       "    <tr style=\"text-align: right;\">\n",
       "      <th></th>\n",
       "      <th>col_with_json_val</th>\n",
       "    </tr>\n",
       "  </thead>\n",
       "  <tbody>\n",
       "    <tr>\n",
       "      <th>0</th>\n",
       "      <td>event.payload</td>\n",
       "    </tr>\n",
       "  </tbody>\n",
       "</table>\n",
       "</div>"
      ],
      "text/plain": [
       "  col_with_json_val\n",
       "0     event.payload"
      ]
     },
     "metadata": {},
     "output_type": "display_data"
    }
   ],
   "source": [
    "# Detect JSON Column by col name\n",
    "# col_with_dot_char = [df[i].name for i in df.columns if \".\" in df[i].name]\n",
    "# print(col_with_dot_char)\n",
    "\n",
    "col_with_json_val = [df[i].name for i in df.columns if \"{\" in str(df[i].iloc[0])]\n",
    "df_json_cols = pd.DataFrame(col_with_json_val,columns = [\"col_with_json_val\"])\n",
    "display(df_json_cols)"
   ]
  },
  {
   "cell_type": "markdown",
   "metadata": {},
   "source": [
    "### Detect XML Column by col values"
   ]
  },
  {
   "cell_type": "code",
   "execution_count": 99,
   "metadata": {},
   "outputs": [
    {
     "data": {
      "text/html": [
       "<div>\n",
       "<style scoped>\n",
       "    .dataframe tbody tr th:only-of-type {\n",
       "        vertical-align: middle;\n",
       "    }\n",
       "\n",
       "    .dataframe tbody tr th {\n",
       "        vertical-align: top;\n",
       "    }\n",
       "\n",
       "    .dataframe thead th {\n",
       "        text-align: right;\n",
       "    }\n",
       "</style>\n",
       "<table border=\"1\" class=\"dataframe\">\n",
       "  <thead>\n",
       "    <tr style=\"text-align: right;\">\n",
       "      <th></th>\n",
       "      <th>col_with_xml_val</th>\n",
       "    </tr>\n",
       "  </thead>\n",
       "  <tbody>\n",
       "  </tbody>\n",
       "</table>\n",
       "</div>"
      ],
      "text/plain": [
       "Empty DataFrame\n",
       "Columns: [col_with_xml_val]\n",
       "Index: []"
      ]
     },
     "metadata": {},
     "output_type": "display_data"
    }
   ],
   "source": [
    "col_with_xml_val = [df[i].name for i in df.columns if \"<\" in str(df[i].iloc[0])]\n",
    "df_xml_cols = pd.DataFrame(col_with_xml_val,columns = [\"col_with_xml_val\"])\n",
    "display(df_xml_cols)"
   ]
  },
  {
   "cell_type": "markdown",
   "metadata": {},
   "source": [
    "### Detect Date-Time Columns"
   ]
  },
  {
   "cell_type": "code",
   "execution_count": 100,
   "metadata": {},
   "outputs": [
    {
     "data": {
      "text/html": [
       "<div>\n",
       "<style scoped>\n",
       "    .dataframe tbody tr th:only-of-type {\n",
       "        vertical-align: middle;\n",
       "    }\n",
       "\n",
       "    .dataframe tbody tr th {\n",
       "        vertical-align: top;\n",
       "    }\n",
       "\n",
       "    .dataframe thead th {\n",
       "        text-align: right;\n",
       "    }\n",
       "</style>\n",
       "<table border=\"1\" class=\"dataframe\">\n",
       "  <thead>\n",
       "    <tr style=\"text-align: right;\">\n",
       "      <th></th>\n",
       "      <th>col_date_time</th>\n",
       "    </tr>\n",
       "  </thead>\n",
       "  <tbody>\n",
       "    <tr>\n",
       "      <th>0</th>\n",
       "      <td>event_time</td>\n",
       "    </tr>\n",
       "  </tbody>\n",
       "</table>\n",
       "</div>"
      ],
      "text/plain": [
       "  col_date_time\n",
       "0    event_time"
      ]
     },
     "metadata": {},
     "output_type": "display_data"
    }
   ],
   "source": [
    "#Regex pattern detect date-time columns\n",
    "pattern_dt = re.compile(r\"[0-9]{4}.[0-9]{2}.[0-9]{2}\\s[0-9]{2}.[0-9]{2}.[0-9]{2}(\\.[0-9]{1,3})?\", re.IGNORECASE)\n",
    "#Loop through columns detect date-time columns\n",
    "col_date_time = [df[i].name for i in df.columns if pattern_dt.match(str(df[i].iloc[0]))]\n",
    "df_date_time_cols = pd.DataFrame(col_date_time,columns = [\"col_date_time\"])\n",
    "display(df_date_time_cols)"
   ]
  },
  {
   "cell_type": "markdown",
   "metadata": {},
   "source": [
    "### Detect Date Columns"
   ]
  },
  {
   "cell_type": "code",
   "execution_count": 101,
   "metadata": {},
   "outputs": [
    {
     "data": {
      "text/html": [
       "<div>\n",
       "<style scoped>\n",
       "    .dataframe tbody tr th:only-of-type {\n",
       "        vertical-align: middle;\n",
       "    }\n",
       "\n",
       "    .dataframe tbody tr th {\n",
       "        vertical-align: top;\n",
       "    }\n",
       "\n",
       "    .dataframe thead th {\n",
       "        text-align: right;\n",
       "    }\n",
       "</style>\n",
       "<table border=\"1\" class=\"dataframe\">\n",
       "  <thead>\n",
       "    <tr style=\"text-align: right;\">\n",
       "      <th></th>\n",
       "      <th>col_date_time</th>\n",
       "    </tr>\n",
       "  </thead>\n",
       "  <tbody>\n",
       "    <tr>\n",
       "      <th>0</th>\n",
       "      <td>event_time</td>\n",
       "    </tr>\n",
       "  </tbody>\n",
       "</table>\n",
       "</div>"
      ],
      "text/plain": [
       "  col_date_time\n",
       "0    event_time"
      ]
     },
     "metadata": {},
     "output_type": "display_data"
    }
   ],
   "source": [
    "#Regex pattern for date columns\n",
    "pattern_d = re.compile(r\"[0-9]{4}.[0-9]{2}.[0-9]{2}.*\", re.IGNORECASE)\n",
    "#Loop through columns detect date columns\n",
    "col_date = [df[i].name for i in df.columns if pattern_d.match(str(df[i].iloc[0]))]\n",
    "df_date_cols = pd.DataFrame(col_date,columns = [\"col_date\"])\n",
    "display(df_date_cols)"
   ]
  },
  {
   "cell_type": "markdown",
   "metadata": {},
   "source": [
    "### Min - Max Date/Time && Difference between Min/Max Date/Time"
   ]
  },
  {
   "cell_type": "code",
   "execution_count": null,
   "metadata": {},
   "outputs": [],
   "source": [
    "if size(vars()[df_date_cols]) > 0 or size(vars()[df_date_time_cols]) > 0:\n",
    "    min_max_date = [df[i].min() for i in df.columns if pattern_d.match(str(df[i].iloc[0]))]\n",
    "    min_max_date.extend([df[i].max() for i in df.columns if pattern_d.match(str(df[i].iloc[0]))])\n",
    "df_date_min_max = pd.DataFrame([min_max_date],columns = [\"min_date\",\"max_date\"])\n",
    "df_date_min_max = df_date_min_max.assign(diff_dates=df_date_min_max['max_date']-df_date_min_max['min_date'])\n",
    "display(df_date_min_max)\n"
   ]
  }
 ],
 "metadata": {
  "kernelspec": {
   "display_name": "Python 3",
   "language": "python",
   "name": "python3"
  },
  "language_info": {
   "codemirror_mode": {
    "name": "ipython",
    "version": 3
   },
   "file_extension": ".py",
   "mimetype": "text/x-python",
   "name": "python",
   "nbconvert_exporter": "python",
   "pygments_lexer": "ipython3",
   "version": "3.10.13"
  }
 },
 "nbformat": 4,
 "nbformat_minor": 2
}
