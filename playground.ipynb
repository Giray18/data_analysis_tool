{
 "cells": [
  {
   "cell_type": "code",
   "execution_count": 1,
   "metadata": {},
   "outputs": [],
   "source": [
    "import pandas as pd\n",
    "import numpy as np\n",
    "import re\n",
    "import json\n",
    "from azure.storage.blob import BlobServiceClient, generate_account_sas, ResourceTypes, AccountSasPermissions\n",
    "from datetime import datetime, timedelta, date\n",
    "import openpyxl\n",
    "import xlsxwriter\n",
    "from collections import deque\n",
    "import dat\n",
    "import sqlite3\n",
    "import os\n",
    "import glob\n",
    "import re"
   ]
  },
  {
   "cell_type": "code",
   "execution_count": 2,
   "metadata": {},
   "outputs": [
    {
     "name": "stdout",
     "output_type": "stream",
     "text": [
      "Album\n",
      "Artist\n",
      "Customer\n",
      "Employee3\n",
      "Genre\n",
      "Invoice\n",
      "InvoiceLine\n",
      "MediaType\n",
      "Playlist\n",
      "PlaylistTrack\n",
      "Track\n",
      "foo\n",
      "DAVAR\n",
      "Davarcan\n"
     ]
    },
    {
     "name": "stderr",
     "output_type": "stream",
     "text": [
      "c:\\Users\\MeliaMuyo\\Desktop\\ALL\\GIRAY\\data_analysis_tool\\dat\\df_null_counts.py:6: RuntimeWarning: divide by zero encountered in scalar divide\n",
      "  null_val_percent = [df[i].isna().sum()/df[i].count() for i in df.columns]\n"
     ]
    },
    {
     "data": {
      "text/html": [
       "<div>\n",
       "<style scoped>\n",
       "    .dataframe tbody tr th:only-of-type {\n",
       "        vertical-align: middle;\n",
       "    }\n",
       "\n",
       "    .dataframe tbody tr th {\n",
       "        vertical-align: top;\n",
       "    }\n",
       "\n",
       "    .dataframe thead th {\n",
       "        text-align: right;\n",
       "    }\n",
       "</style>\n",
       "<table border=\"1\" class=\"dataframe\">\n",
       "  <thead>\n",
       "    <tr style=\"text-align: right;\">\n",
       "      <th></th>\n",
       "      <th>columns_contain_each</th>\n",
       "    </tr>\n",
       "  </thead>\n",
       "  <tbody>\n",
       "    <tr>\n",
       "      <th>0</th>\n",
       "      <td>Customer</td>\n",
       "    </tr>\n",
       "    <tr>\n",
       "      <th>1</th>\n",
       "      <td>Address</td>\n",
       "    </tr>\n",
       "    <tr>\n",
       "      <th>2</th>\n",
       "      <td>Invoice</td>\n",
       "    </tr>\n",
       "    <tr>\n",
       "      <th>3</th>\n",
       "      <td>BillingAddress</td>\n",
       "    </tr>\n",
       "    <tr>\n",
       "      <th>0</th>\n",
       "      <td>Customer</td>\n",
       "    </tr>\n",
       "    <tr>\n",
       "      <th>...</th>\n",
       "      <td>...</td>\n",
       "    </tr>\n",
       "    <tr>\n",
       "      <th>3</th>\n",
       "      <td>BillingState</td>\n",
       "    </tr>\n",
       "    <tr>\n",
       "      <th>0</th>\n",
       "      <td>Davarcan</td>\n",
       "    </tr>\n",
       "    <tr>\n",
       "      <th>1</th>\n",
       "      <td>Country</td>\n",
       "    </tr>\n",
       "    <tr>\n",
       "      <th>2</th>\n",
       "      <td>Invoice</td>\n",
       "    </tr>\n",
       "    <tr>\n",
       "      <th>3</th>\n",
       "      <td>BillingCountry</td>\n",
       "    </tr>\n",
       "  </tbody>\n",
       "</table>\n",
       "<p>120 rows × 1 columns</p>\n",
       "</div>"
      ],
      "text/plain": [
       "   columns_contain_each\n",
       "0              Customer\n",
       "1               Address\n",
       "2               Invoice\n",
       "3        BillingAddress\n",
       "0              Customer\n",
       "..                  ...\n",
       "3          BillingState\n",
       "0              Davarcan\n",
       "1               Country\n",
       "2               Invoice\n",
       "3        BillingCountry\n",
       "\n",
       "[120 rows x 1 columns]"
      ]
     },
     "execution_count": 2,
     "metadata": {},
     "output_type": "execute_result"
    }
   ],
   "source": [
    "dat.multiple_dataset_apply_containing_cols(\"Chinook.db\")"
   ]
  },
  {
   "cell_type": "code",
   "execution_count": 3,
   "metadata": {},
   "outputs": [],
   "source": [
    "# dat.multiple_dataset_apply(os.environ[\"local_csv_file_path\"])"
   ]
  },
  {
   "cell_type": "code",
   "execution_count": 4,
   "metadata": {},
   "outputs": [
    {
     "name": "stdout",
     "output_type": "stream",
     "text": [
      "tarrak parameter_value ['danyal'] dingil\n"
     ]
    }
   ],
   "source": [
    "# use glob to get all the csv files \n",
    "# in the folder\n",
    "path = os.environ[\"local_csv_file_path\"]\n",
    "csv_files = glob.glob(os.path.join(path, \"*.csv\"))\n",
    "\n",
    "#xlsx location\n",
    "xlsx_files = glob.glob(os.path.join(path, \"*.xlsx\"))\n",
    "\n",
    "# loop over the list of csv files\n",
    "# e = pd.DataFrame()\n",
    "for f in csv_files:\n",
    "    File_name =  f.replace(\"\\\\\",\",\")\n",
    "    File_name = re.split('[, .]', File_name)[-2]\n",
    "\n",
    "    # File_name =  f.split(\"\\\\\")[-1]\n",
    "    # File_name = [i[0].split('.') for i in File_name]\n",
    "    # print(File_name)\n",
    "\n",
    "      \n",
    "    # read the csv file\n",
    "    vars()[File_name] = pd.read_csv(f, low_memory=False)\n",
    "    \n",
    "    vars()[File_name] = dat.df_flatten_json(vars()[File_name])\n",
    "\n",
    "    vars()[File_name] = vars()[File_name].astype('str')\n",
    "\n",
    "alldfs = [var for var in dir() if isinstance(eval(var), pd.core.frame.DataFrame)]\n",
    "dataframes_dict = {}\n",
    "for df in alldfs:\n",
    "    dataframes_dict[df] = vars()[df]\n",
    "\n",
    "\n",
    "for a in range(len(alldfs)):\n",
    "    for (columnName, columnData) in vars()[alldfs[a]].items():\n",
    "        pass\n",
    "    for key,colondata in dataframes_dict.items():\n",
    "        pass\n",
    "        for (colonname, colondata) in colondata.items():\n",
    "            if columnData.isin(colondata).all() == True and columnName != colonname:\n",
    "                print(columnName,colonname,[alldfs[a]],key)"
   ]
  },
  {
   "cell_type": "code",
   "execution_count": null,
   "metadata": {},
   "outputs": [],
   "source": [
    "for a in range(len(alldfs)):\n",
    "    for (columnName, columnData) in vars()[alldfs[a]].items():\n",
    "        print(columnName,columnData.dtype)"
   ]
  },
  {
   "cell_type": "code",
   "execution_count": null,
   "metadata": {},
   "outputs": [],
   "source": [
    "for key,value in dataframes_dict.items():\n",
    "    print(key)"
   ]
  },
  {
   "cell_type": "code",
   "execution_count": null,
   "metadata": {},
   "outputs": [],
   "source": [
    "print(alldfs)"
   ]
  },
  {
   "cell_type": "code",
   "execution_count": 8,
   "metadata": {},
   "outputs": [],
   "source": [
    "# # use glob to get all the csv files \n",
    "# # in the folder\n",
    "# path = os.environ[\"local_csv_file_path\"]\n",
    "# csv_files = glob.glob(os.path.join(path, \"*.csv\"))\n",
    "\n",
    "# #xlsx location\n",
    "# xlsx_files = glob.glob(os.path.join(path, \"*.xlsx\"))\n",
    "\n",
    "# # loop over the list of csv files\n",
    "# e = pd.DataFrame()\n",
    "# for f in csv_files:\n",
    "      \n",
    "#     # read the csv file\n",
    "#     df = pd.read_csv(f, low_memory=False)\n",
    "#     df = dat.df_flatten_json(df)\n",
    "\n",
    "#     e = pd.concat([e,df])\n",
    "\n",
    "#     File_name =  f.split(\"\\\\\")[-1]\n",
    "# # d = []\n",
    "# # counter = 0\n",
    "# # print(e)\n",
    "# # for (columnName, columnData) in e.items():\n",
    "# #     for i in range(len(columnName)):\n",
    "# #         # print(i)\n",
    "# #         print(columnName)\n",
    "# #         if columnData.isin(e.iloc[:,i]).all()  == True and columnData.dropna().empty == False:\n",
    "# #             print(columnName,e.iloc[:,i].name)\n",
    "# # e = [e[i].astype(str) for i in e.columns]\n",
    "# # print(e[\"parameter_value\"],e[\"id\"])\n",
    "# for i in e.columns:\n",
    "#     if e[i].dtype == float:\n",
    "#         e[i] = e[i].apply(\"{:.0f}\".format)\n",
    "#         # e[i] = e[i].replace(\"nan\", \"None\")\n",
    "#         e[i] = e[i].dropna()\n",
    "#         e[i] = e[i].astype(str)\n",
    "#     else:\n",
    "#         e[i] = e[i].dropna()\n",
    "#         e[i] = e[i].astype(str)\n",
    "#         # e[i] = e[i].replace(\"nan\", \"NaN\")\n",
    "# # print(e[\"parameter_value\"],e[\"id\"])\n",
    "# for (columnName, columnData) in e.items():\n",
    "#         # print(i)\n",
    "#     # columnData = columnData.dropna()\n",
    "    \n",
    "#     # print(columnData)\n",
    "#     # print(columnName,columnData.dropna().empty == False)\n",
    "#     # columnData = columnData.astype(str)\n",
    "#     # if columnData.isin(e[f\"{columnName}\"]).all()  == True and columnData.dropna().empty == False:\n",
    "#     # if columnData.dropna().isin(e[f\"{columnName}\"].dropna()).any()  == True:\n",
    "#     if columnData[lambda x: x!=\"b9de71c5c3cc4cd7a97e50b832106e5a\"].isin(e[f\"{columnName}\"][lambda x: x!=\"b9de71c5c3cc4cd7a97e50b832106e5a\"]).all()  == True:\n",
    "#         print(columnData)\n",
    "#         print(columnName,e[f\"{columnName}\"].name)\n"
   ]
  }
 ],
 "metadata": {
  "kernelspec": {
   "display_name": "Python 3.8.8 32-bit",
   "language": "python",
   "name": "python3"
  },
  "language_info": {
   "codemirror_mode": {
    "name": "ipython",
    "version": 3
   },
   "file_extension": ".py",
   "mimetype": "text/x-python",
   "name": "python",
   "nbconvert_exporter": "python",
   "pygments_lexer": "ipython3",
   "version": "3.8.8"
  },
  "orig_nbformat": 4,
  "vscode": {
   "interpreter": {
    "hash": "c20fde216d2155112c50961c43343037d5dc4859966493adc092aeb7349463d9"
   }
  }
 },
 "nbformat": 4,
 "nbformat_minor": 2
}
