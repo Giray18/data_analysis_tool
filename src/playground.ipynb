{
 "cells": [
  {
   "cell_type": "code",
   "execution_count": 1,
   "metadata": {},
   "outputs": [],
   "source": [
    "# import pandas as pd\n",
    "# import numpy as np\n",
    "# import re\n",
    "# import json\n",
    "# # from azure.storage.blob import BlobServiceClient, generate_account_sas, ResourceTypes, AccountSasPermissions\n",
    "# from datetime import datetime, timedelta, date\n",
    "# import openpyxl\n",
    "# import xlsxwriter\n",
    "# from collections import deque\n",
    "import dat\n",
    "# import sqlite3\n",
    "# import os\n",
    "# import glob"
   ]
  },
  {
   "cell_type": "code",
   "execution_count": 5,
   "metadata": {},
   "outputs": [
    {
     "data": {
      "text/html": [
       "<div>\n",
       "<style scoped>\n",
       "    .dataframe tbody tr th:only-of-type {\n",
       "        vertical-align: middle;\n",
       "    }\n",
       "\n",
       "    .dataframe tbody tr th {\n",
       "        vertical-align: top;\n",
       "    }\n",
       "\n",
       "    .dataframe thead th {\n",
       "        text-align: right;\n",
       "    }\n",
       "</style>\n",
       "<table border=\"1\" class=\"dataframe\">\n",
       "  <thead>\n",
       "    <tr style=\"text-align: right;\">\n",
       "      <th></th>\n",
       "      <th>adjective</th>\n",
       "      <th>category</th>\n",
       "      <th>created_at</th>\n",
       "      <th>id</th>\n",
       "      <th>modifier</th>\n",
       "      <th>name</th>\n",
       "      <th>price</th>\n",
       "    </tr>\n",
       "  </thead>\n",
       "  <tbody>\n",
       "    <tr>\n",
       "      <th>0</th>\n",
       "      <td>fuzzy</td>\n",
       "      <td>contraption</td>\n",
       "      <td>2014-01-15 21:36:09</td>\n",
       "      <td>2512.0</td>\n",
       "      <td>carrying_case</td>\n",
       "      <td>fuzzy contraption carrying_case</td>\n",
       "      <td>150.0</td>\n",
       "    </tr>\n",
       "    <tr>\n",
       "      <th>1</th>\n",
       "      <td>NaN</td>\n",
       "      <td>instrument</td>\n",
       "      <td>2013-05-14 05:20:50</td>\n",
       "      <td>482.0</td>\n",
       "      <td>refill</td>\n",
       "      <td>instrument refill</td>\n",
       "      <td>35.2</td>\n",
       "    </tr>\n",
       "    <tr>\n",
       "      <th>2</th>\n",
       "      <td>industrial-strength</td>\n",
       "      <td>module</td>\n",
       "      <td>2014-02-04 19:28:32</td>\n",
       "      <td>2446.0</td>\n",
       "      <td>NaN</td>\n",
       "      <td>industrial-strength module</td>\n",
       "      <td>300.0</td>\n",
       "    </tr>\n",
       "    <tr>\n",
       "      <th>3</th>\n",
       "      <td>digital</td>\n",
       "      <td>tool</td>\n",
       "      <td>2013-02-25 12:23:18</td>\n",
       "      <td>1312.0</td>\n",
       "      <td>carrying_case</td>\n",
       "      <td>digital tool carrying_case</td>\n",
       "      <td>16.5</td>\n",
       "    </tr>\n",
       "    <tr>\n",
       "      <th>4</th>\n",
       "      <td>miniature</td>\n",
       "      <td>device</td>\n",
       "      <td>2013-08-05 17:20:45</td>\n",
       "      <td>3556.0</td>\n",
       "      <td>cleaner</td>\n",
       "      <td>miniature device cleaner</td>\n",
       "      <td>16.5</td>\n",
       "    </tr>\n",
       "    <tr>\n",
       "      <th>...</th>\n",
       "      <td>...</td>\n",
       "      <td>...</td>\n",
       "      <td>...</td>\n",
       "      <td>...</td>\n",
       "      <td>...</td>\n",
       "      <td>...</td>\n",
       "      <td>...</td>\n",
       "    </tr>\n",
       "    <tr>\n",
       "      <th>2193</th>\n",
       "      <td>prize-winning</td>\n",
       "      <td>apparatus</td>\n",
       "      <td>2013-08-13 04:14:14</td>\n",
       "      <td>3952.0</td>\n",
       "      <td>charger</td>\n",
       "      <td>prize-winning apparatus charger</td>\n",
       "      <td>66.0</td>\n",
       "    </tr>\n",
       "    <tr>\n",
       "      <th>2194</th>\n",
       "      <td>fuzzy</td>\n",
       "      <td>dongle</td>\n",
       "      <td>2014-01-16 00:58:43</td>\n",
       "      <td>432.0</td>\n",
       "      <td>wrapper</td>\n",
       "      <td>fuzzy dongle wrapper</td>\n",
       "      <td>12.0</td>\n",
       "    </tr>\n",
       "    <tr>\n",
       "      <th>2195</th>\n",
       "      <td>industrial-strength</td>\n",
       "      <td>dongle</td>\n",
       "      <td>2013-12-18 21:37:01</td>\n",
       "      <td>1393.0</td>\n",
       "      <td>refill</td>\n",
       "      <td>industrial-strength dongle refill</td>\n",
       "      <td>72.0</td>\n",
       "    </tr>\n",
       "    <tr>\n",
       "      <th>2196</th>\n",
       "      <td>miniature</td>\n",
       "      <td>device</td>\n",
       "      <td>2013-11-27 14:14:47</td>\n",
       "      <td>425.0</td>\n",
       "      <td>NaN</td>\n",
       "      <td>miniature device</td>\n",
       "      <td>27.5</td>\n",
       "    </tr>\n",
       "    <tr>\n",
       "      <th>2197</th>\n",
       "      <td>NaN</td>\n",
       "      <td>widget</td>\n",
       "      <td>2013-10-10 21:13:50</td>\n",
       "      <td>325.0</td>\n",
       "      <td>how-to-manual</td>\n",
       "      <td>widget how-to-manual</td>\n",
       "      <td>0.0</td>\n",
       "    </tr>\n",
       "  </tbody>\n",
       "</table>\n",
       "<p>2198 rows × 7 columns</p>\n",
       "</div>"
      ],
      "text/plain": [
       "                adjective     category           created_at      id  \\\n",
       "0                   fuzzy  contraption  2014-01-15 21:36:09  2512.0   \n",
       "1                     NaN   instrument  2013-05-14 05:20:50   482.0   \n",
       "2     industrial-strength       module  2014-02-04 19:28:32  2446.0   \n",
       "3                 digital         tool  2013-02-25 12:23:18  1312.0   \n",
       "4               miniature       device  2013-08-05 17:20:45  3556.0   \n",
       "...                   ...          ...                  ...     ...   \n",
       "2193        prize-winning    apparatus  2013-08-13 04:14:14  3952.0   \n",
       "2194                fuzzy       dongle  2014-01-16 00:58:43   432.0   \n",
       "2195  industrial-strength       dongle  2013-12-18 21:37:01  1393.0   \n",
       "2196            miniature       device  2013-11-27 14:14:47   425.0   \n",
       "2197                  NaN       widget  2013-10-10 21:13:50   325.0   \n",
       "\n",
       "           modifier                               name  price  \n",
       "0     carrying_case    fuzzy contraption carrying_case  150.0  \n",
       "1            refill                  instrument refill   35.2  \n",
       "2               NaN         industrial-strength module  300.0  \n",
       "3     carrying_case         digital tool carrying_case   16.5  \n",
       "4           cleaner           miniature device cleaner   16.5  \n",
       "...             ...                                ...    ...  \n",
       "2193        charger    prize-winning apparatus charger   66.0  \n",
       "2194        wrapper               fuzzy dongle wrapper   12.0  \n",
       "2195         refill  industrial-strength dongle refill   72.0  \n",
       "2196            NaN                   miniature device   27.5  \n",
       "2197  how-to-manual               widget how-to-manual    0.0  \n",
       "\n",
       "[2198 rows x 7 columns]"
      ]
     },
     "execution_count": 5,
     "metadata": {},
     "output_type": "execute_result"
    }
   ],
   "source": [
    "dat.df_read_aws('merkle-de-interview-case-study/de','item.csv')"
   ]
  },
  {
   "cell_type": "code",
   "execution_count": null,
   "metadata": {},
   "outputs": [
    {
     "data": {
      "text/plain": [
       "'data dict saved'"
      ]
     },
     "execution_count": 2,
     "metadata": {},
     "output_type": "execute_result"
    }
   ],
   "source": [
    "dat.data_dict_crate_sqlite(\"Chinook.db\")"
   ]
  },
  {
   "cell_type": "code",
   "execution_count": null,
   "metadata": {},
   "outputs": [
    {
     "name": "stdout",
     "output_type": "stream",
     "text": [
      "Album\n",
      "Artist\n",
      "Customer\n",
      "Employee3\n",
      "Genre\n",
      "Invoice\n",
      "InvoiceLine\n",
      "MediaType\n",
      "Playlist\n",
      "PlaylistTrack\n",
      "Track\n",
      "foo\n",
      "DAVAR\n",
      "Davarcan\n"
     ]
    },
    {
     "data": {
      "text/plain": [
       "'output files saved'"
      ]
     },
     "execution_count": 2,
     "metadata": {},
     "output_type": "execute_result"
    }
   ],
   "source": [
    "dat.multiple_dataset_apply_containing_cols_sqlite(\"Chinook.db\")"
   ]
  },
  {
   "cell_type": "code",
   "execution_count": null,
   "metadata": {},
   "outputs": [
    {
     "data": {
      "text/plain": [
       "'value find table saved'"
      ]
     },
     "execution_count": 4,
     "metadata": {},
     "output_type": "execute_result"
    }
   ],
   "source": [
    "dat.find_value_sqlite(\"Chinook.db\",\"Stuttgart\")"
   ]
  }
 ],
 "metadata": {
  "kernelspec": {
   "display_name": "Python 3.8.8 32-bit",
   "language": "python",
   "name": "python3"
  },
  "language_info": {
   "codemirror_mode": {
    "name": "ipython",
    "version": 3
   },
   "file_extension": ".py",
   "mimetype": "text/x-python",
   "name": "python",
   "nbconvert_exporter": "python",
   "pygments_lexer": "ipython3",
   "version": "3.11.1"
  },
  "orig_nbformat": 4,
  "vscode": {
   "interpreter": {
    "hash": "c20fde216d2155112c50961c43343037d5dc4859966493adc092aeb7349463d9"
   }
  }
 },
 "nbformat": 4,
 "nbformat_minor": 2
}
