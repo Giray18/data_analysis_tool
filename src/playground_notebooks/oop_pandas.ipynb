{
 "cells": [
  {
   "cell_type": "code",
   "execution_count": 176,
   "metadata": {},
   "outputs": [],
   "source": [
    "import sys\n",
    "sys.path.insert(0, 'C:/Users/Lenovo/Desktop/exam_eti/containerized_tool/data_analysis_tool/src')"
   ]
  },
  {
   "cell_type": "code",
   "execution_count": 178,
   "metadata": {},
   "outputs": [],
   "source": [
    "import mysql_analyzer\n",
    "import mysql.connector\n",
    "import pandas as pd\n",
    "from mysql.connector.errors import Error\n",
    "import dat\n",
    "from faker import Faker\n",
    "import random\n",
    "import json\n",
    "from json import dumps\n",
    "from json import loads\n",
    "import time\n",
    "from datetime import datetime\n",
    "from kafka import KafkaProducer, TopicPartition, KafkaConsumer\n",
    "import xlsxwriter\n",
    "import openpyxl\n",
    "import os"
   ]
  },
  {
   "cell_type": "markdown",
   "metadata": {},
   "source": [
    "## Initiating mysql_analyzer class"
   ]
  },
  {
   "cell_type": "code",
   "execution_count": 180,
   "metadata": {},
   "outputs": [],
   "source": [
    "mysql_works = mysql_analyzer.mysql_profiler('localhost',os.environ['MYSQLSERVER_USER'],\n",
    "                os.environ['MYSQLSERVER_PASS'],'sakila')"
   ]
  },
  {
   "cell_type": "markdown",
   "metadata": {},
   "source": [
    "## Exercises works on mysql_analyzer module`s below methods to demonstrate OOP skills"
   ]
  },
  {
   "cell_type": "code",
   "execution_count": null,
   "metadata": {},
   "outputs": [],
   "source": [
    "mysql_works.multiple_dataset_apply_containing_cols_mysql()"
   ]
  },
  {
   "cell_type": "code",
   "execution_count": null,
   "metadata": {},
   "outputs": [],
   "source": [
    "mysql_works.find_value_mysql('Hillyer')"
   ]
  },
  {
   "cell_type": "code",
   "execution_count": null,
   "metadata": {},
   "outputs": [],
   "source": [
    "mysql_works.multiple_dataset_apply_mysql_query('SELECT * FROM criket_table')"
   ]
  },
  {
   "cell_type": "code",
   "execution_count": null,
   "metadata": {},
   "outputs": [],
   "source": [
    "mysql_works.multiple_dataset_apply_mysql_query('SELECT team, COUNT(team) as game_played,\\\n",
    "                                          CAST(SUM(CASE WHEN team=WonBy THEN 1 ELSE 0 END)AS SIGNED) AS game_won FROM\\\n",
    "                                         (SELECT TeamA AS team, WonBy from criket_table\\\n",
    "                                         UNION ALL\\\n",
    "                                         SELECT TeamB AS team, WonBy from criket_table) AS sub\\\n",
    "                                         GROUP BY team\\\n",
    "                                         ORDER BY game_won'\n",
    "                                         )"
   ]
  }
 ],
 "metadata": {
  "kernelspec": {
   "display_name": "Python 3",
   "language": "python",
   "name": "python3"
  },
  "language_info": {
   "codemirror_mode": {
    "name": "ipython",
    "version": 3
   },
   "file_extension": ".py",
   "mimetype": "text/x-python",
   "name": "python",
   "nbconvert_exporter": "python",
   "pygments_lexer": "ipython3",
   "version": "3.11.1"
  }
 },
 "nbformat": 4,
 "nbformat_minor": 2
}
