{
 "cells": [
  {
   "cell_type": "code",
   "execution_count": 1,
   "metadata": {},
   "outputs": [],
   "source": [
    "import sys\n",
    "sys.path.insert(0, 'C:/Users/Lenovo/Desktop/exam_eti/containerized_tool/data_analysis_tool/src')"
   ]
  },
  {
   "cell_type": "code",
   "execution_count": 2,
   "metadata": {},
   "outputs": [
    {
     "name": "stdout",
     "output_type": "stream",
     "text": [
      "working\n"
     ]
    }
   ],
   "source": [
    "import mysql_analyzer\n",
    "import mysql.connector\n",
    "from mysql.connector.errors import Error\n",
    "import os\n",
    "import dat\n",
    "from faker import Faker\n",
    "import random\n",
    "import json\n",
    "import time\n",
    "from datetime import datetime"
   ]
  },
  {
   "cell_type": "code",
   "execution_count": 3,
   "metadata": {},
   "outputs": [],
   "source": [
    "mysql_works = mysql_analyzer.mysql_profiler('localhost',os.environ['MYSQLSERVER_USER'],\n",
    "                os.environ['MYSQLSERVER_PASS'],'sakila')"
   ]
  },
  {
   "cell_type": "code",
   "execution_count": 4,
   "metadata": {},
   "outputs": [],
   "source": [
    "# mysql_works.multiple_dataset_apply_containing_cols_mysql()"
   ]
  },
  {
   "cell_type": "code",
   "execution_count": 5,
   "metadata": {},
   "outputs": [],
   "source": [
    "# mysql_works.find_value_mysql('Hillyer')"
   ]
  },
  {
   "cell_type": "code",
   "execution_count": 6,
   "metadata": {},
   "outputs": [],
   "source": [
    "# mysql_works.multiple_dataset_apply_mysql_query('SELECT * FROM criket_table')"
   ]
  },
  {
   "cell_type": "code",
   "execution_count": 7,
   "metadata": {},
   "outputs": [],
   "source": [
    "# mysql_works.multiple_dataset_apply_mysql_query('SELECT team, COUNT(team) as game_played,\\\n",
    "#                                           CAST(SUM(CASE WHEN team=WonBy THEN 1 ELSE 0 END)AS SIGNED) AS game_won FROM\\\n",
    "#                                          (SELECT TeamA AS team, WonBy from criket_table\\\n",
    "#                                          UNION ALL\\\n",
    "#                                          SELECT TeamB AS team, WonBy from criket_table) AS sub\\\n",
    "#                                          GROUP BY team\\\n",
    "#                                          ORDER BY game_won'\n",
    "#                                          )"
   ]
  },
  {
   "cell_type": "code",
   "execution_count": 8,
   "metadata": {},
   "outputs": [],
   "source": [
    "# for table_name in TABLES:\n",
    "#     table_description = TABLES[table_name]\n",
    "#     try:\n",
    "#         print(\"Creating table {}: \".format(table_name), end='')\n",
    "#         cursor.execute(table_description)\n",
    "#     except mysql.connector.Error as err:\n",
    "#         if err.errno == errorcode.ER_TABLE_EXISTS_ERROR:\n",
    "#             print(\"already exists.\")\n",
    "#         else:\n",
    "#             print(err.msg)\n",
    "#     else:\n",
    "#         print(\"OK\")\n",
    "\n",
    "# cursor.close()\n",
    "# cnx.close()"
   ]
  },
  {
   "cell_type": "code",
   "execution_count": 9,
   "metadata": {},
   "outputs": [
    {
     "data": {
      "text/plain": [
       "'INSERT INTO STATEMENT EXECUTED'"
      ]
     },
     "execution_count": 9,
     "metadata": {},
     "output_type": "execute_result"
    }
   ],
   "source": [
    "mysql_works.multiple_dataset_apply_mysql_insert(\"CREATE TABLE \\\n",
    "sakila.users_change_events (log_id BIGINT AUTO_INCREMENT,\\\n",
    "  event_type      TEXT,\\\n",
    "  event_timestamp TIMESTAMP,\\\n",
    "  user_id         INT,\\\n",
    "  user_name       TEXT,\\\n",
    "  user_email      TEXT,\\\n",
    "  PRIMARY KEY (log_id))\")\n",
    "\n"
   ]
  },
  {
   "cell_type": "code",
   "execution_count": 12,
   "metadata": {},
   "outputs": [],
   "source": [
    "# mysql_works.multiple_dataset_apply_mysql_insert(\"CREATE TRIGGER sakila.user_insert_capture AFTER INSERT ON sakila.customer FOR EACH ROW \\\n",
    "#   BEGIN INSERT INTO sakila.users_change_events \\\n",
    "#   (event_type, \\\n",
    "#    event_timestamp, \\\n",
    "#    user_id, \\\n",
    "#    user_name, \\\n",
    "#    user_email) \\\n",
    "#  VALUES ( \\\n",
    "#    'INSERT', \\\n",
    "#    now(), \\\n",
    "#    user_id, \\\n",
    "#    user_name, \\\n",
    "#    user_email); \\\n",
    "#   END;\") \n"
   ]
  },
  {
   "cell_type": "code",
   "execution_count": null,
   "metadata": {},
   "outputs": [],
   "source": [
    "# mysql_works.multiple_dataset_apply_mysql_insert(\"CREATE TRIGGER user_update_capture\\\n",
    "#  AFTER UPDATE ON users\\\n",
    "#  FOR EACH ROW BEGIN\\\n",
    "#  INSERT INTO users_change_events (\\\n",
    "#    event_type,\\\n",
    "#    event_timestamp,\\\n",
    "#    user_id,\\\n",
    "#    user_name,\\\n",
    "#    user_email\\\n",
    "#  )\\\n",
    "#  VALUES (\\\n",
    "#    'UPDATE',\\\n",
    "#    now(),\\\n",
    "#    NEW.user_id,\\\n",
    "#    NEW.user_name,\\\n",
    "#    NEW.user_email\\\n",
    "#  )\")"
   ]
  },
  {
   "cell_type": "markdown",
   "metadata": {},
   "source": [
    "## Create transaction by time interval"
   ]
  },
  {
   "cell_type": "code",
   "execution_count": 10,
   "metadata": {},
   "outputs": [
    {
     "name": "stdout",
     "output_type": "stream",
     "text": [
      "654\n",
      "655\n",
      "656\n",
      "657\n",
      "658\n",
      "659\n",
      "660\n",
      "661\n",
      "662\n",
      "663\n"
     ]
    }
   ],
   "source": [
    "mysql_works.fake_record_creator_sakila()"
   ]
  }
 ],
 "metadata": {
  "kernelspec": {
   "display_name": "Python 3",
   "language": "python",
   "name": "python3"
  },
  "language_info": {
   "codemirror_mode": {
    "name": "ipython",
    "version": 3
   },
   "file_extension": ".py",
   "mimetype": "text/x-python",
   "name": "python",
   "nbconvert_exporter": "python",
   "pygments_lexer": "ipython3",
   "version": "3.11.1"
  }
 },
 "nbformat": 4,
 "nbformat_minor": 2
}
