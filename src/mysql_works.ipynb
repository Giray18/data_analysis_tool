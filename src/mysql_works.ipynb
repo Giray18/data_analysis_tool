{
 "cells": [
  {
   "cell_type": "code",
   "execution_count": 7,
   "metadata": {},
   "outputs": [],
   "source": [
    "import mysql.connector\n",
    "import dat\n",
    "import os\n",
    "from datetime import datetime, timedelta, date\n",
    "import openpyxl\n",
    "import xlsxwriter\n",
    "import pandas as pd\n",
    "import numpy as np\n",
    "import re\n",
    "import json\n"
   ]
  },
  {
   "cell_type": "markdown",
   "metadata": {},
   "source": [
    "### This chunk is for docker works"
   ]
  },
  {
   "cell_type": "code",
   "execution_count": 8,
   "metadata": {},
   "outputs": [],
   "source": [
    "# df = dat.df_read_aws('merkle-de-interview-case-study/de','item.csv')\n",
    "\n",
    "# functions_df_names = dat.analysis_dict()\n",
    "\n",
    "# for key,value in functions_df_names.items():\n",
    "#     # Creating dataframes defined on analysis_dict.py file\n",
    "#     vars()[key] = value(df)\n",
    "\n",
    "# dat.save_dataframe_excel(globals(),f\"analysis_dataset_{date.today()}\")"
   ]
  },
  {
   "cell_type": "markdown",
   "metadata": {},
   "source": [
    "### Below chunks are for Mysql works"
   ]
  },
  {
   "cell_type": "code",
   "execution_count": 9,
   "metadata": {},
   "outputs": [],
   "source": [
    "mydb = mysql.connector.connect(user = os.environ['MYSQLSERVER_USER'], \n",
    "                               password = os.environ['MYSQLSERVER_PASS'],\n",
    "                              host ='localhost',\n",
    "                              database ='sakila')\n",
    "\n",
    "mycursor = mydb.cursor()\n",
    "\n"
   ]
  },
  {
   "cell_type": "code",
   "execution_count": 10,
   "metadata": {},
   "outputs": [],
   "source": [
    "# dat.multiple_dataset_apply_mysql('localhost',os.environ['MYSQLSERVER_USER'],\n",
    "#                                                  os.environ['MYSQLSERVER_PASS'],'sakila')"
   ]
  },
  {
   "cell_type": "code",
   "execution_count": 11,
   "metadata": {},
   "outputs": [],
   "source": [
    "# dat.multiple_dataset_apply_containing_cols_mysql('localhost',os.environ['MYSQLSERVER_USER'],\n",
    "#                                                  os.environ['MYSQLSERVER_PASS'],'sakila')"
   ]
  },
  {
   "cell_type": "code",
   "execution_count": null,
   "metadata": {},
   "outputs": [],
   "source": [
    "# dat.df_find_value.find_value_mysql('localhost',os.environ['MYSQLSERVER_USER'],\n",
    "#                 os.environ['MYSQLSERVER_PASS'],'sakila','A Epic Drama of a Feminist And a Mad Scientist who must Battle a Teacher in The Canadian Rockies')"
   ]
  }
 ],
 "metadata": {
  "kernelspec": {
   "display_name": "Python 3",
   "language": "python",
   "name": "python3"
  },
  "language_info": {
   "codemirror_mode": {
    "name": "ipython",
    "version": 3
   },
   "file_extension": ".py",
   "mimetype": "text/x-python",
   "name": "python",
   "nbconvert_exporter": "python",
   "pygments_lexer": "ipython3",
   "version": "3.11.1"
  }
 },
 "nbformat": 4,
 "nbformat_minor": 2
}
