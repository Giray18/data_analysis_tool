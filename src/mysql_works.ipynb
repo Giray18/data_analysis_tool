{
 "cells": [
  {
   "cell_type": "code",
   "execution_count": 3,
   "metadata": {},
   "outputs": [],
   "source": [
    "import mysql.connector\n",
    "import dat\n",
    "import os"
   ]
  },
  {
   "cell_type": "code",
   "execution_count": 4,
   "metadata": {},
   "outputs": [],
   "source": [
    "mydb = mysql.connector.connect(user = os.environ['MYSQLSERVER_USER'], password = os.environ['MYSQLSERVER_PASS'],\n",
    "                              host ='localhost',\n",
    "                              database ='sakila')\n",
    "# cnx.close()"
   ]
  },
  {
   "cell_type": "code",
   "execution_count": 5,
   "metadata": {},
   "outputs": [],
   "source": [
    "mycursor = mydb.cursor()\n",
    "mycursor.execute(\"SELECT * FROM actor\")\n",
    "myresult = mycursor.fetchall()\n",
    "\n",
    "# for x in myresult:\n",
    "#     print(x)"
   ]
  },
  {
   "cell_type": "code",
   "execution_count": 6,
   "metadata": {},
   "outputs": [],
   "source": [
    "# dat.multiple_dataset_apply_sql.multiple_dataset_apply_mysql('localhost','root','Dingilaz55!','sakila')"
   ]
  },
  {
   "cell_type": "code",
   "execution_count": 7,
   "metadata": {},
   "outputs": [
    {
     "name": "stdout",
     "output_type": "stream",
     "text": [
      "actor\n"
     ]
    },
    {
     "name": "stderr",
     "output_type": "stream",
     "text": [
      "c:\\Users\\Lenovo\\Desktop\\exam_eti\\data_analysis_tool\\dat\\multiple_dataset_apply_sql.py:45: UserWarning: pandas only supports SQLAlchemy connectable (engine/connection) or database string URI or sqlite3 DBAPI2 connection. Other DBAPI2 objects are not tested. Please consider using SQLAlchemy.\n",
      "  df_detect = pd.read_sql(f'SELECT * FROM {f} LIMIT 1',con=db)\n",
      "c:\\Users\\Lenovo\\Desktop\\exam_eti\\data_analysis_tool\\dat\\multiple_dataset_apply_sql.py:50: UserWarning: pandas only supports SQLAlchemy connectable (engine/connection) or database string URI or sqlite3 DBAPI2 connection. Other DBAPI2 objects are not tested. Please consider using SQLAlchemy.\n",
      "  if (pd.read_sql_query(f\"SELECT * FROM {f} WHERE {f}.{col_date[0]} = '{date.today()}'\", con=db)).size > 0:\n",
      "c:\\Users\\Lenovo\\Desktop\\exam_eti\\data_analysis_tool\\dat\\multiple_dataset_apply_sql.py:53: UserWarning: pandas only supports SQLAlchemy connectable (engine/connection) or database string URI or sqlite3 DBAPI2 connection. Other DBAPI2 objects are not tested. Please consider using SQLAlchemy.\n",
      "  df = pd.read_sql(f'SELECT * FROM {f}', con=db)\n"
     ]
    },
    {
     "name": "stdout",
     "output_type": "stream",
     "text": [
      "actor_info\n"
     ]
    },
    {
     "name": "stderr",
     "output_type": "stream",
     "text": [
      "c:\\Users\\Lenovo\\Desktop\\exam_eti\\data_analysis_tool\\dat\\multiple_dataset_apply_sql.py:45: UserWarning: pandas only supports SQLAlchemy connectable (engine/connection) or database string URI or sqlite3 DBAPI2 connection. Other DBAPI2 objects are not tested. Please consider using SQLAlchemy.\n",
      "  df_detect = pd.read_sql(f'SELECT * FROM {f} LIMIT 1',con=db)\n",
      "c:\\Users\\Lenovo\\Desktop\\exam_eti\\data_analysis_tool\\dat\\multiple_dataset_apply_sql.py:55: UserWarning: pandas only supports SQLAlchemy connectable (engine/connection) or database string URI or sqlite3 DBAPI2 connection. Other DBAPI2 objects are not tested. Please consider using SQLAlchemy.\n",
      "  df = pd.read_sql(f'SELECT * FROM {f}', con=db)\n"
     ]
    },
    {
     "name": "stdout",
     "output_type": "stream",
     "text": [
      "address\n"
     ]
    },
    {
     "name": "stderr",
     "output_type": "stream",
     "text": [
      "c:\\Users\\Lenovo\\Desktop\\exam_eti\\data_analysis_tool\\dat\\multiple_dataset_apply_sql.py:45: UserWarning: pandas only supports SQLAlchemy connectable (engine/connection) or database string URI or sqlite3 DBAPI2 connection. Other DBAPI2 objects are not tested. Please consider using SQLAlchemy.\n",
      "  df_detect = pd.read_sql(f'SELECT * FROM {f} LIMIT 1',con=db)\n",
      "c:\\Users\\Lenovo\\Desktop\\exam_eti\\data_analysis_tool\\dat\\multiple_dataset_apply_sql.py:50: UserWarning: pandas only supports SQLAlchemy connectable (engine/connection) or database string URI or sqlite3 DBAPI2 connection. Other DBAPI2 objects are not tested. Please consider using SQLAlchemy.\n",
      "  if (pd.read_sql_query(f\"SELECT * FROM {f} WHERE {f}.{col_date[0]} = '{date.today()}'\", con=db)).size > 0:\n",
      "c:\\Users\\Lenovo\\Desktop\\exam_eti\\data_analysis_tool\\dat\\multiple_dataset_apply_sql.py:53: UserWarning: pandas only supports SQLAlchemy connectable (engine/connection) or database string URI or sqlite3 DBAPI2 connection. Other DBAPI2 objects are not tested. Please consider using SQLAlchemy.\n",
      "  df = pd.read_sql(f'SELECT * FROM {f}', con=db)\n"
     ]
    },
    {
     "name": "stdout",
     "output_type": "stream",
     "text": [
      "category\n"
     ]
    },
    {
     "name": "stderr",
     "output_type": "stream",
     "text": [
      "c:\\Users\\Lenovo\\Desktop\\exam_eti\\data_analysis_tool\\dat\\multiple_dataset_apply_sql.py:45: UserWarning: pandas only supports SQLAlchemy connectable (engine/connection) or database string URI or sqlite3 DBAPI2 connection. Other DBAPI2 objects are not tested. Please consider using SQLAlchemy.\n",
      "  df_detect = pd.read_sql(f'SELECT * FROM {f} LIMIT 1',con=db)\n",
      "c:\\Users\\Lenovo\\Desktop\\exam_eti\\data_analysis_tool\\dat\\multiple_dataset_apply_sql.py:50: UserWarning: pandas only supports SQLAlchemy connectable (engine/connection) or database string URI or sqlite3 DBAPI2 connection. Other DBAPI2 objects are not tested. Please consider using SQLAlchemy.\n",
      "  if (pd.read_sql_query(f\"SELECT * FROM {f} WHERE {f}.{col_date[0]} = '{date.today()}'\", con=db)).size > 0:\n",
      "c:\\Users\\Lenovo\\Desktop\\exam_eti\\data_analysis_tool\\dat\\multiple_dataset_apply_sql.py:53: UserWarning: pandas only supports SQLAlchemy connectable (engine/connection) or database string URI or sqlite3 DBAPI2 connection. Other DBAPI2 objects are not tested. Please consider using SQLAlchemy.\n",
      "  df = pd.read_sql(f'SELECT * FROM {f}', con=db)\n"
     ]
    },
    {
     "name": "stdout",
     "output_type": "stream",
     "text": [
      "city\n"
     ]
    },
    {
     "name": "stderr",
     "output_type": "stream",
     "text": [
      "c:\\Users\\Lenovo\\Desktop\\exam_eti\\data_analysis_tool\\dat\\multiple_dataset_apply_sql.py:45: UserWarning: pandas only supports SQLAlchemy connectable (engine/connection) or database string URI or sqlite3 DBAPI2 connection. Other DBAPI2 objects are not tested. Please consider using SQLAlchemy.\n",
      "  df_detect = pd.read_sql(f'SELECT * FROM {f} LIMIT 1',con=db)\n",
      "c:\\Users\\Lenovo\\Desktop\\exam_eti\\data_analysis_tool\\dat\\multiple_dataset_apply_sql.py:50: UserWarning: pandas only supports SQLAlchemy connectable (engine/connection) or database string URI or sqlite3 DBAPI2 connection. Other DBAPI2 objects are not tested. Please consider using SQLAlchemy.\n",
      "  if (pd.read_sql_query(f\"SELECT * FROM {f} WHERE {f}.{col_date[0]} = '{date.today()}'\", con=db)).size > 0:\n",
      "c:\\Users\\Lenovo\\Desktop\\exam_eti\\data_analysis_tool\\dat\\multiple_dataset_apply_sql.py:53: UserWarning: pandas only supports SQLAlchemy connectable (engine/connection) or database string URI or sqlite3 DBAPI2 connection. Other DBAPI2 objects are not tested. Please consider using SQLAlchemy.\n",
      "  df = pd.read_sql(f'SELECT * FROM {f}', con=db)\n"
     ]
    },
    {
     "name": "stdout",
     "output_type": "stream",
     "text": [
      "country\n"
     ]
    },
    {
     "name": "stderr",
     "output_type": "stream",
     "text": [
      "c:\\Users\\Lenovo\\Desktop\\exam_eti\\data_analysis_tool\\dat\\multiple_dataset_apply_sql.py:45: UserWarning: pandas only supports SQLAlchemy connectable (engine/connection) or database string URI or sqlite3 DBAPI2 connection. Other DBAPI2 objects are not tested. Please consider using SQLAlchemy.\n",
      "  df_detect = pd.read_sql(f'SELECT * FROM {f} LIMIT 1',con=db)\n",
      "c:\\Users\\Lenovo\\Desktop\\exam_eti\\data_analysis_tool\\dat\\multiple_dataset_apply_sql.py:50: UserWarning: pandas only supports SQLAlchemy connectable (engine/connection) or database string URI or sqlite3 DBAPI2 connection. Other DBAPI2 objects are not tested. Please consider using SQLAlchemy.\n",
      "  if (pd.read_sql_query(f\"SELECT * FROM {f} WHERE {f}.{col_date[0]} = '{date.today()}'\", con=db)).size > 0:\n",
      "c:\\Users\\Lenovo\\Desktop\\exam_eti\\data_analysis_tool\\dat\\multiple_dataset_apply_sql.py:53: UserWarning: pandas only supports SQLAlchemy connectable (engine/connection) or database string URI or sqlite3 DBAPI2 connection. Other DBAPI2 objects are not tested. Please consider using SQLAlchemy.\n",
      "  df = pd.read_sql(f'SELECT * FROM {f}', con=db)\n"
     ]
    },
    {
     "name": "stdout",
     "output_type": "stream",
     "text": [
      "customer\n"
     ]
    },
    {
     "name": "stderr",
     "output_type": "stream",
     "text": [
      "c:\\Users\\Lenovo\\Desktop\\exam_eti\\data_analysis_tool\\dat\\multiple_dataset_apply_sql.py:45: UserWarning: pandas only supports SQLAlchemy connectable (engine/connection) or database string URI or sqlite3 DBAPI2 connection. Other DBAPI2 objects are not tested. Please consider using SQLAlchemy.\n",
      "  df_detect = pd.read_sql(f'SELECT * FROM {f} LIMIT 1',con=db)\n",
      "c:\\Users\\Lenovo\\Desktop\\exam_eti\\data_analysis_tool\\dat\\multiple_dataset_apply_sql.py:50: UserWarning: pandas only supports SQLAlchemy connectable (engine/connection) or database string URI or sqlite3 DBAPI2 connection. Other DBAPI2 objects are not tested. Please consider using SQLAlchemy.\n",
      "  if (pd.read_sql_query(f\"SELECT * FROM {f} WHERE {f}.{col_date[0]} = '{date.today()}'\", con=db)).size > 0:\n",
      "c:\\Users\\Lenovo\\Desktop\\exam_eti\\data_analysis_tool\\dat\\multiple_dataset_apply_sql.py:53: UserWarning: pandas only supports SQLAlchemy connectable (engine/connection) or database string URI or sqlite3 DBAPI2 connection. Other DBAPI2 objects are not tested. Please consider using SQLAlchemy.\n",
      "  df = pd.read_sql(f'SELECT * FROM {f}', con=db)\n"
     ]
    },
    {
     "name": "stdout",
     "output_type": "stream",
     "text": [
      "customer_list\n"
     ]
    },
    {
     "name": "stderr",
     "output_type": "stream",
     "text": [
      "c:\\Users\\Lenovo\\Desktop\\exam_eti\\data_analysis_tool\\dat\\multiple_dataset_apply_sql.py:45: UserWarning: pandas only supports SQLAlchemy connectable (engine/connection) or database string URI or sqlite3 DBAPI2 connection. Other DBAPI2 objects are not tested. Please consider using SQLAlchemy.\n",
      "  df_detect = pd.read_sql(f'SELECT * FROM {f} LIMIT 1',con=db)\n",
      "c:\\Users\\Lenovo\\Desktop\\exam_eti\\data_analysis_tool\\dat\\multiple_dataset_apply_sql.py:50: UserWarning: pandas only supports SQLAlchemy connectable (engine/connection) or database string URI or sqlite3 DBAPI2 connection. Other DBAPI2 objects are not tested. Please consider using SQLAlchemy.\n",
      "  if (pd.read_sql_query(f\"SELECT * FROM {f} WHERE {f}.{col_date[0]} = '{date.today()}'\", con=db)).size > 0:\n",
      "c:\\Users\\Lenovo\\Desktop\\exam_eti\\data_analysis_tool\\dat\\multiple_dataset_apply_sql.py:53: UserWarning: pandas only supports SQLAlchemy connectable (engine/connection) or database string URI or sqlite3 DBAPI2 connection. Other DBAPI2 objects are not tested. Please consider using SQLAlchemy.\n",
      "  df = pd.read_sql(f'SELECT * FROM {f}', con=db)\n"
     ]
    },
    {
     "name": "stdout",
     "output_type": "stream",
     "text": [
      "film\n"
     ]
    },
    {
     "name": "stderr",
     "output_type": "stream",
     "text": [
      "c:\\Users\\Lenovo\\Desktop\\exam_eti\\data_analysis_tool\\dat\\multiple_dataset_apply_sql.py:45: UserWarning: pandas only supports SQLAlchemy connectable (engine/connection) or database string URI or sqlite3 DBAPI2 connection. Other DBAPI2 objects are not tested. Please consider using SQLAlchemy.\n",
      "  df_detect = pd.read_sql(f'SELECT * FROM {f} LIMIT 1',con=db)\n",
      "c:\\Users\\Lenovo\\Desktop\\exam_eti\\data_analysis_tool\\dat\\multiple_dataset_apply_sql.py:50: UserWarning: pandas only supports SQLAlchemy connectable (engine/connection) or database string URI or sqlite3 DBAPI2 connection. Other DBAPI2 objects are not tested. Please consider using SQLAlchemy.\n",
      "  if (pd.read_sql_query(f\"SELECT * FROM {f} WHERE {f}.{col_date[0]} = '{date.today()}'\", con=db)).size > 0:\n",
      "c:\\Users\\Lenovo\\Desktop\\exam_eti\\data_analysis_tool\\dat\\multiple_dataset_apply_sql.py:53: UserWarning: pandas only supports SQLAlchemy connectable (engine/connection) or database string URI or sqlite3 DBAPI2 connection. Other DBAPI2 objects are not tested. Please consider using SQLAlchemy.\n",
      "  df = pd.read_sql(f'SELECT * FROM {f}', con=db)\n",
      "c:\\Users\\Lenovo\\Desktop\\exam_eti\\data_analysis_tool\\dat\\df_null_counts.py:6: RuntimeWarning: divide by zero encountered in scalar divide\n",
      "  null_val_percent = [df[i].isna().sum()/df[i].count() for i in df.columns]\n"
     ]
    },
    {
     "name": "stdout",
     "output_type": "stream",
     "text": [
      "film_actor\n"
     ]
    },
    {
     "name": "stderr",
     "output_type": "stream",
     "text": [
      "c:\\Users\\Lenovo\\Desktop\\exam_eti\\data_analysis_tool\\dat\\multiple_dataset_apply_sql.py:45: UserWarning: pandas only supports SQLAlchemy connectable (engine/connection) or database string URI or sqlite3 DBAPI2 connection. Other DBAPI2 objects are not tested. Please consider using SQLAlchemy.\n",
      "  df_detect = pd.read_sql(f'SELECT * FROM {f} LIMIT 1',con=db)\n",
      "c:\\Users\\Lenovo\\Desktop\\exam_eti\\data_analysis_tool\\dat\\multiple_dataset_apply_sql.py:50: UserWarning: pandas only supports SQLAlchemy connectable (engine/connection) or database string URI or sqlite3 DBAPI2 connection. Other DBAPI2 objects are not tested. Please consider using SQLAlchemy.\n",
      "  if (pd.read_sql_query(f\"SELECT * FROM {f} WHERE {f}.{col_date[0]} = '{date.today()}'\", con=db)).size > 0:\n",
      "c:\\Users\\Lenovo\\Desktop\\exam_eti\\data_analysis_tool\\dat\\multiple_dataset_apply_sql.py:53: UserWarning: pandas only supports SQLAlchemy connectable (engine/connection) or database string URI or sqlite3 DBAPI2 connection. Other DBAPI2 objects are not tested. Please consider using SQLAlchemy.\n",
      "  df = pd.read_sql(f'SELECT * FROM {f}', con=db)\n"
     ]
    },
    {
     "name": "stdout",
     "output_type": "stream",
     "text": [
      "film_category\n"
     ]
    },
    {
     "name": "stderr",
     "output_type": "stream",
     "text": [
      "c:\\Users\\Lenovo\\Desktop\\exam_eti\\data_analysis_tool\\dat\\multiple_dataset_apply_sql.py:45: UserWarning: pandas only supports SQLAlchemy connectable (engine/connection) or database string URI or sqlite3 DBAPI2 connection. Other DBAPI2 objects are not tested. Please consider using SQLAlchemy.\n",
      "  df_detect = pd.read_sql(f'SELECT * FROM {f} LIMIT 1',con=db)\n",
      "c:\\Users\\Lenovo\\Desktop\\exam_eti\\data_analysis_tool\\dat\\multiple_dataset_apply_sql.py:50: UserWarning: pandas only supports SQLAlchemy connectable (engine/connection) or database string URI or sqlite3 DBAPI2 connection. Other DBAPI2 objects are not tested. Please consider using SQLAlchemy.\n",
      "  if (pd.read_sql_query(f\"SELECT * FROM {f} WHERE {f}.{col_date[0]} = '{date.today()}'\", con=db)).size > 0:\n",
      "c:\\Users\\Lenovo\\Desktop\\exam_eti\\data_analysis_tool\\dat\\multiple_dataset_apply_sql.py:53: UserWarning: pandas only supports SQLAlchemy connectable (engine/connection) or database string URI or sqlite3 DBAPI2 connection. Other DBAPI2 objects are not tested. Please consider using SQLAlchemy.\n",
      "  df = pd.read_sql(f'SELECT * FROM {f}', con=db)\n"
     ]
    },
    {
     "name": "stdout",
     "output_type": "stream",
     "text": [
      "film_list\n"
     ]
    },
    {
     "name": "stderr",
     "output_type": "stream",
     "text": [
      "c:\\Users\\Lenovo\\Desktop\\exam_eti\\data_analysis_tool\\dat\\multiple_dataset_apply_sql.py:45: UserWarning: pandas only supports SQLAlchemy connectable (engine/connection) or database string URI or sqlite3 DBAPI2 connection. Other DBAPI2 objects are not tested. Please consider using SQLAlchemy.\n",
      "  df_detect = pd.read_sql(f'SELECT * FROM {f} LIMIT 1',con=db)\n",
      "c:\\Users\\Lenovo\\Desktop\\exam_eti\\data_analysis_tool\\dat\\multiple_dataset_apply_sql.py:55: UserWarning: pandas only supports SQLAlchemy connectable (engine/connection) or database string URI or sqlite3 DBAPI2 connection. Other DBAPI2 objects are not tested. Please consider using SQLAlchemy.\n",
      "  df = pd.read_sql(f'SELECT * FROM {f}', con=db)\n"
     ]
    },
    {
     "name": "stdout",
     "output_type": "stream",
     "text": [
      "film_text\n"
     ]
    },
    {
     "name": "stderr",
     "output_type": "stream",
     "text": [
      "c:\\Users\\Lenovo\\Desktop\\exam_eti\\data_analysis_tool\\dat\\multiple_dataset_apply_sql.py:45: UserWarning: pandas only supports SQLAlchemy connectable (engine/connection) or database string URI or sqlite3 DBAPI2 connection. Other DBAPI2 objects are not tested. Please consider using SQLAlchemy.\n",
      "  df_detect = pd.read_sql(f'SELECT * FROM {f} LIMIT 1',con=db)\n",
      "c:\\Users\\Lenovo\\Desktop\\exam_eti\\data_analysis_tool\\dat\\multiple_dataset_apply_sql.py:55: UserWarning: pandas only supports SQLAlchemy connectable (engine/connection) or database string URI or sqlite3 DBAPI2 connection. Other DBAPI2 objects are not tested. Please consider using SQLAlchemy.\n",
      "  df = pd.read_sql(f'SELECT * FROM {f}', con=db)\n"
     ]
    },
    {
     "name": "stdout",
     "output_type": "stream",
     "text": [
      "inventory\n"
     ]
    },
    {
     "name": "stderr",
     "output_type": "stream",
     "text": [
      "c:\\Users\\Lenovo\\Desktop\\exam_eti\\data_analysis_tool\\dat\\multiple_dataset_apply_sql.py:45: UserWarning: pandas only supports SQLAlchemy connectable (engine/connection) or database string URI or sqlite3 DBAPI2 connection. Other DBAPI2 objects are not tested. Please consider using SQLAlchemy.\n",
      "  df_detect = pd.read_sql(f'SELECT * FROM {f} LIMIT 1',con=db)\n",
      "c:\\Users\\Lenovo\\Desktop\\exam_eti\\data_analysis_tool\\dat\\multiple_dataset_apply_sql.py:50: UserWarning: pandas only supports SQLAlchemy connectable (engine/connection) or database string URI or sqlite3 DBAPI2 connection. Other DBAPI2 objects are not tested. Please consider using SQLAlchemy.\n",
      "  if (pd.read_sql_query(f\"SELECT * FROM {f} WHERE {f}.{col_date[0]} = '{date.today()}'\", con=db)).size > 0:\n",
      "c:\\Users\\Lenovo\\Desktop\\exam_eti\\data_analysis_tool\\dat\\multiple_dataset_apply_sql.py:53: UserWarning: pandas only supports SQLAlchemy connectable (engine/connection) or database string URI or sqlite3 DBAPI2 connection. Other DBAPI2 objects are not tested. Please consider using SQLAlchemy.\n",
      "  df = pd.read_sql(f'SELECT * FROM {f}', con=db)\n"
     ]
    },
    {
     "name": "stdout",
     "output_type": "stream",
     "text": [
      "language\n"
     ]
    },
    {
     "name": "stderr",
     "output_type": "stream",
     "text": [
      "c:\\Users\\Lenovo\\Desktop\\exam_eti\\data_analysis_tool\\dat\\multiple_dataset_apply_sql.py:45: UserWarning: pandas only supports SQLAlchemy connectable (engine/connection) or database string URI or sqlite3 DBAPI2 connection. Other DBAPI2 objects are not tested. Please consider using SQLAlchemy.\n",
      "  df_detect = pd.read_sql(f'SELECT * FROM {f} LIMIT 1',con=db)\n",
      "c:\\Users\\Lenovo\\Desktop\\exam_eti\\data_analysis_tool\\dat\\multiple_dataset_apply_sql.py:50: UserWarning: pandas only supports SQLAlchemy connectable (engine/connection) or database string URI or sqlite3 DBAPI2 connection. Other DBAPI2 objects are not tested. Please consider using SQLAlchemy.\n",
      "  if (pd.read_sql_query(f\"SELECT * FROM {f} WHERE {f}.{col_date[0]} = '{date.today()}'\", con=db)).size > 0:\n",
      "c:\\Users\\Lenovo\\Desktop\\exam_eti\\data_analysis_tool\\dat\\multiple_dataset_apply_sql.py:53: UserWarning: pandas only supports SQLAlchemy connectable (engine/connection) or database string URI or sqlite3 DBAPI2 connection. Other DBAPI2 objects are not tested. Please consider using SQLAlchemy.\n",
      "  df = pd.read_sql(f'SELECT * FROM {f}', con=db)\n"
     ]
    },
    {
     "name": "stdout",
     "output_type": "stream",
     "text": [
      "nicer_but_slower_film_list\n"
     ]
    },
    {
     "name": "stderr",
     "output_type": "stream",
     "text": [
      "c:\\Users\\Lenovo\\Desktop\\exam_eti\\data_analysis_tool\\dat\\multiple_dataset_apply_sql.py:45: UserWarning: pandas only supports SQLAlchemy connectable (engine/connection) or database string URI or sqlite3 DBAPI2 connection. Other DBAPI2 objects are not tested. Please consider using SQLAlchemy.\n",
      "  df_detect = pd.read_sql(f'SELECT * FROM {f} LIMIT 1',con=db)\n",
      "c:\\Users\\Lenovo\\Desktop\\exam_eti\\data_analysis_tool\\dat\\multiple_dataset_apply_sql.py:55: UserWarning: pandas only supports SQLAlchemy connectable (engine/connection) or database string URI or sqlite3 DBAPI2 connection. Other DBAPI2 objects are not tested. Please consider using SQLAlchemy.\n",
      "  df = pd.read_sql(f'SELECT * FROM {f}', con=db)\n"
     ]
    },
    {
     "name": "stdout",
     "output_type": "stream",
     "text": [
      "payment\n"
     ]
    },
    {
     "name": "stderr",
     "output_type": "stream",
     "text": [
      "c:\\Users\\Lenovo\\Desktop\\exam_eti\\data_analysis_tool\\dat\\multiple_dataset_apply_sql.py:45: UserWarning: pandas only supports SQLAlchemy connectable (engine/connection) or database string URI or sqlite3 DBAPI2 connection. Other DBAPI2 objects are not tested. Please consider using SQLAlchemy.\n",
      "  df_detect = pd.read_sql(f'SELECT * FROM {f} LIMIT 1',con=db)\n",
      "c:\\Users\\Lenovo\\Desktop\\exam_eti\\data_analysis_tool\\dat\\multiple_dataset_apply_sql.py:50: UserWarning: pandas only supports SQLAlchemy connectable (engine/connection) or database string URI or sqlite3 DBAPI2 connection. Other DBAPI2 objects are not tested. Please consider using SQLAlchemy.\n",
      "  if (pd.read_sql_query(f\"SELECT * FROM {f} WHERE {f}.{col_date[0]} = '{date.today()}'\", con=db)).size > 0:\n",
      "c:\\Users\\Lenovo\\Desktop\\exam_eti\\data_analysis_tool\\dat\\multiple_dataset_apply_sql.py:53: UserWarning: pandas only supports SQLAlchemy connectable (engine/connection) or database string URI or sqlite3 DBAPI2 connection. Other DBAPI2 objects are not tested. Please consider using SQLAlchemy.\n",
      "  df = pd.read_sql(f'SELECT * FROM {f}', con=db)\n"
     ]
    },
    {
     "name": "stdout",
     "output_type": "stream",
     "text": [
      "rental\n"
     ]
    },
    {
     "name": "stderr",
     "output_type": "stream",
     "text": [
      "c:\\Users\\Lenovo\\Desktop\\exam_eti\\data_analysis_tool\\dat\\multiple_dataset_apply_sql.py:45: UserWarning: pandas only supports SQLAlchemy connectable (engine/connection) or database string URI or sqlite3 DBAPI2 connection. Other DBAPI2 objects are not tested. Please consider using SQLAlchemy.\n",
      "  df_detect = pd.read_sql(f'SELECT * FROM {f} LIMIT 1',con=db)\n",
      "c:\\Users\\Lenovo\\Desktop\\exam_eti\\data_analysis_tool\\dat\\multiple_dataset_apply_sql.py:50: UserWarning: pandas only supports SQLAlchemy connectable (engine/connection) or database string URI or sqlite3 DBAPI2 connection. Other DBAPI2 objects are not tested. Please consider using SQLAlchemy.\n",
      "  if (pd.read_sql_query(f\"SELECT * FROM {f} WHERE {f}.{col_date[0]} = '{date.today()}'\", con=db)).size > 0:\n",
      "c:\\Users\\Lenovo\\Desktop\\exam_eti\\data_analysis_tool\\dat\\multiple_dataset_apply_sql.py:53: UserWarning: pandas only supports SQLAlchemy connectable (engine/connection) or database string URI or sqlite3 DBAPI2 connection. Other DBAPI2 objects are not tested. Please consider using SQLAlchemy.\n",
      "  df = pd.read_sql(f'SELECT * FROM {f}', con=db)\n"
     ]
    },
    {
     "name": "stdout",
     "output_type": "stream",
     "text": [
      "sales_by_film_category\n"
     ]
    },
    {
     "name": "stderr",
     "output_type": "stream",
     "text": [
      "c:\\Users\\Lenovo\\Desktop\\exam_eti\\data_analysis_tool\\dat\\multiple_dataset_apply_sql.py:45: UserWarning: pandas only supports SQLAlchemy connectable (engine/connection) or database string URI or sqlite3 DBAPI2 connection. Other DBAPI2 objects are not tested. Please consider using SQLAlchemy.\n",
      "  df_detect = pd.read_sql(f'SELECT * FROM {f} LIMIT 1',con=db)\n",
      "c:\\Users\\Lenovo\\Desktop\\exam_eti\\data_analysis_tool\\dat\\multiple_dataset_apply_sql.py:55: UserWarning: pandas only supports SQLAlchemy connectable (engine/connection) or database string URI or sqlite3 DBAPI2 connection. Other DBAPI2 objects are not tested. Please consider using SQLAlchemy.\n",
      "  df = pd.read_sql(f'SELECT * FROM {f}', con=db)\n"
     ]
    },
    {
     "name": "stdout",
     "output_type": "stream",
     "text": [
      "sales_by_store\n"
     ]
    },
    {
     "name": "stderr",
     "output_type": "stream",
     "text": [
      "c:\\Users\\Lenovo\\Desktop\\exam_eti\\data_analysis_tool\\dat\\multiple_dataset_apply_sql.py:45: UserWarning: pandas only supports SQLAlchemy connectable (engine/connection) or database string URI or sqlite3 DBAPI2 connection. Other DBAPI2 objects are not tested. Please consider using SQLAlchemy.\n",
      "  df_detect = pd.read_sql(f'SELECT * FROM {f} LIMIT 1',con=db)\n",
      "c:\\Users\\Lenovo\\Desktop\\exam_eti\\data_analysis_tool\\dat\\multiple_dataset_apply_sql.py:55: UserWarning: pandas only supports SQLAlchemy connectable (engine/connection) or database string URI or sqlite3 DBAPI2 connection. Other DBAPI2 objects are not tested. Please consider using SQLAlchemy.\n",
      "  df = pd.read_sql(f'SELECT * FROM {f}', con=db)\n"
     ]
    },
    {
     "name": "stdout",
     "output_type": "stream",
     "text": [
      "staff\n"
     ]
    },
    {
     "name": "stderr",
     "output_type": "stream",
     "text": [
      "c:\\Users\\Lenovo\\Desktop\\exam_eti\\data_analysis_tool\\dat\\multiple_dataset_apply_sql.py:45: UserWarning: pandas only supports SQLAlchemy connectable (engine/connection) or database string URI or sqlite3 DBAPI2 connection. Other DBAPI2 objects are not tested. Please consider using SQLAlchemy.\n",
      "  df_detect = pd.read_sql(f'SELECT * FROM {f} LIMIT 1',con=db)\n",
      "c:\\Users\\Lenovo\\Desktop\\exam_eti\\data_analysis_tool\\dat\\multiple_dataset_apply_sql.py:50: UserWarning: pandas only supports SQLAlchemy connectable (engine/connection) or database string URI or sqlite3 DBAPI2 connection. Other DBAPI2 objects are not tested. Please consider using SQLAlchemy.\n",
      "  if (pd.read_sql_query(f\"SELECT * FROM {f} WHERE {f}.{col_date[0]} = '{date.today()}'\", con=db)).size > 0:\n",
      "c:\\Users\\Lenovo\\Desktop\\exam_eti\\data_analysis_tool\\dat\\multiple_dataset_apply_sql.py:53: UserWarning: pandas only supports SQLAlchemy connectable (engine/connection) or database string URI or sqlite3 DBAPI2 connection. Other DBAPI2 objects are not tested. Please consider using SQLAlchemy.\n",
      "  df = pd.read_sql(f'SELECT * FROM {f}', con=db)\n"
     ]
    },
    {
     "name": "stdout",
     "output_type": "stream",
     "text": [
      "staff_list\n"
     ]
    },
    {
     "name": "stderr",
     "output_type": "stream",
     "text": [
      "c:\\Users\\Lenovo\\Desktop\\exam_eti\\data_analysis_tool\\dat\\multiple_dataset_apply_sql.py:45: UserWarning: pandas only supports SQLAlchemy connectable (engine/connection) or database string URI or sqlite3 DBAPI2 connection. Other DBAPI2 objects are not tested. Please consider using SQLAlchemy.\n",
      "  df_detect = pd.read_sql(f'SELECT * FROM {f} LIMIT 1',con=db)\n",
      "c:\\Users\\Lenovo\\Desktop\\exam_eti\\data_analysis_tool\\dat\\multiple_dataset_apply_sql.py:50: UserWarning: pandas only supports SQLAlchemy connectable (engine/connection) or database string URI or sqlite3 DBAPI2 connection. Other DBAPI2 objects are not tested. Please consider using SQLAlchemy.\n",
      "  if (pd.read_sql_query(f\"SELECT * FROM {f} WHERE {f}.{col_date[0]} = '{date.today()}'\", con=db)).size > 0:\n",
      "c:\\Users\\Lenovo\\Desktop\\exam_eti\\data_analysis_tool\\dat\\multiple_dataset_apply_sql.py:53: UserWarning: pandas only supports SQLAlchemy connectable (engine/connection) or database string URI or sqlite3 DBAPI2 connection. Other DBAPI2 objects are not tested. Please consider using SQLAlchemy.\n",
      "  df = pd.read_sql(f'SELECT * FROM {f}', con=db)\n"
     ]
    },
    {
     "name": "stdout",
     "output_type": "stream",
     "text": [
      "store\n"
     ]
    },
    {
     "name": "stderr",
     "output_type": "stream",
     "text": [
      "c:\\Users\\Lenovo\\Desktop\\exam_eti\\data_analysis_tool\\dat\\multiple_dataset_apply_sql.py:45: UserWarning: pandas only supports SQLAlchemy connectable (engine/connection) or database string URI or sqlite3 DBAPI2 connection. Other DBAPI2 objects are not tested. Please consider using SQLAlchemy.\n",
      "  df_detect = pd.read_sql(f'SELECT * FROM {f} LIMIT 1',con=db)\n",
      "c:\\Users\\Lenovo\\Desktop\\exam_eti\\data_analysis_tool\\dat\\multiple_dataset_apply_sql.py:50: UserWarning: pandas only supports SQLAlchemy connectable (engine/connection) or database string URI or sqlite3 DBAPI2 connection. Other DBAPI2 objects are not tested. Please consider using SQLAlchemy.\n",
      "  if (pd.read_sql_query(f\"SELECT * FROM {f} WHERE {f}.{col_date[0]} = '{date.today()}'\", con=db)).size > 0:\n",
      "c:\\Users\\Lenovo\\Desktop\\exam_eti\\data_analysis_tool\\dat\\multiple_dataset_apply_sql.py:53: UserWarning: pandas only supports SQLAlchemy connectable (engine/connection) or database string URI or sqlite3 DBAPI2 connection. Other DBAPI2 objects are not tested. Please consider using SQLAlchemy.\n",
      "  df = pd.read_sql(f'SELECT * FROM {f}', con=db)\n",
      "c:\\Users\\Lenovo\\Desktop\\exam_eti\\data_analysis_tool\\dat\\multiple_dataset_apply_sql.py:173: FutureWarning: The behavior of 'isin' with dtype=datetime64[ns] and castable values (e.g. strings) is deprecated. In a future version, these will not be considered matching by isin. Explicitly cast to the appropriate dtype before calling isin instead.\n",
      "  if columnData.isin(colondata).all() == True and key_col == key_col_1 and key != key_1: # and \"id\" not in key_col and \"Id\" not in key_col_1\n",
      "c:\\Users\\Lenovo\\Desktop\\exam_eti\\data_analysis_tool\\dat\\multiple_dataset_apply_sql.py:173: FutureWarning: The behavior of 'isin' with dtype=datetime64[ns] and castable values (e.g. strings) is deprecated. In a future version, these will not be considered matching by isin. Explicitly cast to the appropriate dtype before calling isin instead.\n",
      "  if columnData.isin(colondata).all() == True and key_col == key_col_1 and key != key_1: # and \"id\" not in key_col and \"Id\" not in key_col_1\n",
      "c:\\Users\\Lenovo\\Desktop\\exam_eti\\data_analysis_tool\\dat\\multiple_dataset_apply_sql.py:173: FutureWarning: The behavior of 'isin' with dtype=datetime64[ns] and castable values (e.g. strings) is deprecated. In a future version, these will not be considered matching by isin. Explicitly cast to the appropriate dtype before calling isin instead.\n",
      "  if columnData.isin(colondata).all() == True and key_col == key_col_1 and key != key_1: # and \"id\" not in key_col and \"Id\" not in key_col_1\n",
      "c:\\Users\\Lenovo\\Desktop\\exam_eti\\data_analysis_tool\\dat\\multiple_dataset_apply_sql.py:173: FutureWarning: The behavior of 'isin' with dtype=datetime64[ns] and castable values (e.g. strings) is deprecated. In a future version, these will not be considered matching by isin. Explicitly cast to the appropriate dtype before calling isin instead.\n",
      "  if columnData.isin(colondata).all() == True and key_col == key_col_1 and key != key_1: # and \"id\" not in key_col and \"Id\" not in key_col_1\n",
      "c:\\Users\\Lenovo\\Desktop\\exam_eti\\data_analysis_tool\\dat\\multiple_dataset_apply_sql.py:173: FutureWarning: The behavior of 'isin' with dtype=datetime64[ns] and castable values (e.g. strings) is deprecated. In a future version, these will not be considered matching by isin. Explicitly cast to the appropriate dtype before calling isin instead.\n",
      "  if columnData.isin(colondata).all() == True and key_col == key_col_1 and key != key_1: # and \"id\" not in key_col and \"Id\" not in key_col_1\n",
      "c:\\Users\\Lenovo\\Desktop\\exam_eti\\data_analysis_tool\\dat\\multiple_dataset_apply_sql.py:173: FutureWarning: The behavior of 'isin' with dtype=datetime64[ns] and castable values (e.g. strings) is deprecated. In a future version, these will not be considered matching by isin. Explicitly cast to the appropriate dtype before calling isin instead.\n",
      "  if columnData.isin(colondata).all() == True and key_col == key_col_1 and key != key_1: # and \"id\" not in key_col and \"Id\" not in key_col_1\n",
      "c:\\Users\\Lenovo\\Desktop\\exam_eti\\data_analysis_tool\\dat\\multiple_dataset_apply_sql.py:173: FutureWarning: The behavior of 'isin' with dtype=datetime64[ns] and castable values (e.g. strings) is deprecated. In a future version, these will not be considered matching by isin. Explicitly cast to the appropriate dtype before calling isin instead.\n",
      "  if columnData.isin(colondata).all() == True and key_col == key_col_1 and key != key_1: # and \"id\" not in key_col and \"Id\" not in key_col_1\n",
      "c:\\Users\\Lenovo\\Desktop\\exam_eti\\data_analysis_tool\\dat\\multiple_dataset_apply_sql.py:173: FutureWarning: The behavior of 'isin' with dtype=datetime64[ns] and castable values (e.g. strings) is deprecated. In a future version, these will not be considered matching by isin. Explicitly cast to the appropriate dtype before calling isin instead.\n",
      "  if columnData.isin(colondata).all() == True and key_col == key_col_1 and key != key_1: # and \"id\" not in key_col and \"Id\" not in key_col_1\n",
      "c:\\Users\\Lenovo\\Desktop\\exam_eti\\data_analysis_tool\\dat\\multiple_dataset_apply_sql.py:173: FutureWarning: The behavior of 'isin' with dtype=datetime64[ns] and castable values (e.g. strings) is deprecated. In a future version, these will not be considered matching by isin. Explicitly cast to the appropriate dtype before calling isin instead.\n",
      "  if columnData.isin(colondata).all() == True and key_col == key_col_1 and key != key_1: # and \"id\" not in key_col and \"Id\" not in key_col_1\n",
      "c:\\Users\\Lenovo\\Desktop\\exam_eti\\data_analysis_tool\\dat\\multiple_dataset_apply_sql.py:173: FutureWarning: The behavior of 'isin' with dtype=datetime64[ns] and castable values (e.g. strings) is deprecated. In a future version, these will not be considered matching by isin. Explicitly cast to the appropriate dtype before calling isin instead.\n",
      "  if columnData.isin(colondata).all() == True and key_col == key_col_1 and key != key_1: # and \"id\" not in key_col and \"Id\" not in key_col_1\n",
      "c:\\Users\\Lenovo\\Desktop\\exam_eti\\data_analysis_tool\\dat\\multiple_dataset_apply_sql.py:173: FutureWarning: The behavior of 'isin' with dtype=datetime64[ns] and castable values (e.g. strings) is deprecated. In a future version, these will not be considered matching by isin. Explicitly cast to the appropriate dtype before calling isin instead.\n",
      "  if columnData.isin(colondata).all() == True and key_col == key_col_1 and key != key_1: # and \"id\" not in key_col and \"Id\" not in key_col_1\n",
      "c:\\Users\\Lenovo\\Desktop\\exam_eti\\data_analysis_tool\\dat\\multiple_dataset_apply_sql.py:173: FutureWarning: The behavior of 'isin' with dtype=datetime64[ns] and castable values (e.g. strings) is deprecated. In a future version, these will not be considered matching by isin. Explicitly cast to the appropriate dtype before calling isin instead.\n",
      "  if columnData.isin(colondata).all() == True and key_col == key_col_1 and key != key_1: # and \"id\" not in key_col and \"Id\" not in key_col_1\n",
      "c:\\Users\\Lenovo\\Desktop\\exam_eti\\data_analysis_tool\\dat\\multiple_dataset_apply_sql.py:173: FutureWarning: The behavior of 'isin' with dtype=datetime64[ns] and castable values (e.g. strings) is deprecated. In a future version, these will not be considered matching by isin. Explicitly cast to the appropriate dtype before calling isin instead.\n",
      "  if columnData.isin(colondata).all() == True and key_col == key_col_1 and key != key_1: # and \"id\" not in key_col and \"Id\" not in key_col_1\n",
      "c:\\Users\\Lenovo\\Desktop\\exam_eti\\data_analysis_tool\\dat\\multiple_dataset_apply_sql.py:173: FutureWarning: The behavior of 'isin' with dtype=datetime64[ns] and castable values (e.g. strings) is deprecated. In a future version, these will not be considered matching by isin. Explicitly cast to the appropriate dtype before calling isin instead.\n",
      "  if columnData.isin(colondata).all() == True and key_col == key_col_1 and key != key_1: # and \"id\" not in key_col and \"Id\" not in key_col_1\n",
      "c:\\Users\\Lenovo\\Desktop\\exam_eti\\data_analysis_tool\\dat\\multiple_dataset_apply_sql.py:173: FutureWarning: The behavior of 'isin' with dtype=datetime64[ns] and castable values (e.g. strings) is deprecated. In a future version, these will not be considered matching by isin. Explicitly cast to the appropriate dtype before calling isin instead.\n",
      "  if columnData.isin(colondata).all() == True and key_col == key_col_1 and key != key_1: # and \"id\" not in key_col and \"Id\" not in key_col_1\n",
      "c:\\Users\\Lenovo\\Desktop\\exam_eti\\data_analysis_tool\\dat\\multiple_dataset_apply_sql.py:173: FutureWarning: The behavior of 'isin' with dtype=datetime64[ns] and castable values (e.g. strings) is deprecated. In a future version, these will not be considered matching by isin. Explicitly cast to the appropriate dtype before calling isin instead.\n",
      "  if columnData.isin(colondata).all() == True and key_col == key_col_1 and key != key_1: # and \"id\" not in key_col and \"Id\" not in key_col_1\n",
      "c:\\Users\\Lenovo\\Desktop\\exam_eti\\data_analysis_tool\\dat\\multiple_dataset_apply_sql.py:173: FutureWarning: The behavior of 'isin' with dtype=datetime64[ns] and castable values (e.g. strings) is deprecated. In a future version, these will not be considered matching by isin. Explicitly cast to the appropriate dtype before calling isin instead.\n",
      "  if columnData.isin(colondata).all() == True and key_col == key_col_1 and key != key_1: # and \"id\" not in key_col and \"Id\" not in key_col_1\n",
      "c:\\Users\\Lenovo\\Desktop\\exam_eti\\data_analysis_tool\\dat\\multiple_dataset_apply_sql.py:173: FutureWarning: The behavior of 'isin' with dtype=datetime64[ns] and castable values (e.g. strings) is deprecated. In a future version, these will not be considered matching by isin. Explicitly cast to the appropriate dtype before calling isin instead.\n",
      "  if columnData.isin(colondata).all() == True and key_col == key_col_1 and key != key_1: # and \"id\" not in key_col and \"Id\" not in key_col_1\n",
      "c:\\Users\\Lenovo\\Desktop\\exam_eti\\data_analysis_tool\\dat\\multiple_dataset_apply_sql.py:173: FutureWarning: The behavior of 'isin' with dtype=datetime64[ns] and castable values (e.g. strings) is deprecated. In a future version, these will not be considered matching by isin. Explicitly cast to the appropriate dtype before calling isin instead.\n",
      "  if columnData.isin(colondata).all() == True and key_col == key_col_1 and key != key_1: # and \"id\" not in key_col and \"Id\" not in key_col_1\n"
     ]
    },
    {
     "data": {
      "text/plain": [
       "'output files saved'"
      ]
     },
     "execution_count": 7,
     "metadata": {},
     "output_type": "execute_result"
    }
   ],
   "source": [
    "dat.multiple_dataset_apply_sql.multiple_dataset_apply_containing_cols_mysql('localhost','root','Dingilaz55!','sakila')"
   ]
  }
 ],
 "metadata": {
  "kernelspec": {
   "display_name": "Python 3",
   "language": "python",
   "name": "python3"
  },
  "language_info": {
   "codemirror_mode": {
    "name": "ipython",
    "version": 3
   },
   "file_extension": ".py",
   "mimetype": "text/x-python",
   "name": "python",
   "nbconvert_exporter": "python",
   "pygments_lexer": "ipython3",
   "version": "3.11.1"
  }
 },
 "nbformat": 4,
 "nbformat_minor": 2
}
