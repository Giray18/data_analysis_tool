{
 "cells": [
  {
   "cell_type": "code",
   "execution_count": 1,
   "metadata": {},
   "outputs": [],
   "source": [
    "import mysql.connector\n",
    "import dat\n",
    "import os\n",
    "from datetime import datetime, timedelta, date\n",
    "import openpyxl\n",
    "import xlsxwriter\n",
    "import pandas as pd\n",
    "import numpy as np\n",
    "import re\n",
    "import json\n"
   ]
  },
  {
   "cell_type": "markdown",
   "metadata": {},
   "source": [
    "### This chunk is for docker works"
   ]
  },
  {
   "cell_type": "code",
   "execution_count": 2,
   "metadata": {},
   "outputs": [],
   "source": [
    "# df = dat.df_read_aws('merkle-de-interview-case-study/de','item.csv')\n",
    "\n",
    "# functions_df_names = dat.analysis_dict()\n",
    "\n",
    "# for key,value in functions_df_names.items():\n",
    "#     # Creating dataframes defined on analysis_dict.py file\n",
    "#     vars()[key] = value(df)\n",
    "\n",
    "# dat.save_dataframe_excel(globals(),f\"analysis_dataset_{date.today()}\")"
   ]
  },
  {
   "cell_type": "markdown",
   "metadata": {},
   "source": [
    "### Below chunks are for Mysql works"
   ]
  },
  {
   "cell_type": "code",
   "execution_count": 3,
   "metadata": {},
   "outputs": [],
   "source": [
    "mydb = mysql.connector.connect(user = os.environ['MYSQLSERVER_USER'], \n",
    "                               password = os.environ['MYSQLSERVER_PASS'],\n",
    "                              host ='localhost',\n",
    "                              database ='sakila')\n",
    "\n",
    "mycursor = mydb.cursor()\n",
    "\n"
   ]
  },
  {
   "cell_type": "code",
   "execution_count": 4,
   "metadata": {},
   "outputs": [],
   "source": [
    "# dat.multiple_dataset_apply_mysql('localhost',os.environ['MYSQLSERVER_USER'],\n",
    "#                                                  os.environ['MYSQLSERVER_PASS'],'sakila')"
   ]
  },
  {
   "cell_type": "code",
   "execution_count": 5,
   "metadata": {},
   "outputs": [],
   "source": [
    "# dat.multiple_dataset_apply_containing_cols_mysql('localhost',os.environ['MYSQLSERVER_USER'],\n",
    "#                                                  os.environ['MYSQLSERVER_PASS'],'sakila')"
   ]
  },
  {
   "cell_type": "code",
   "execution_count": 6,
   "metadata": {},
   "outputs": [
    {
     "name": "stderr",
     "output_type": "stream",
     "text": [
      "c:\\Users\\Lenovo\\Desktop\\exam_eti\\containerized_tool\\data_analysis_tool\\src\\dat\\df_find_value.py:82: UserWarning: pandas only supports SQLAlchemy connectable (engine/connection) or database string URI or sqlite3 DBAPI2 connection. Other DBAPI2 objects are not tested. Please consider using SQLAlchemy.\n",
      "  df_detect = pd.read_sql(f'SELECT * FROM {f} LIMIT 1',con=db)\n",
      "c:\\Users\\Lenovo\\Desktop\\exam_eti\\containerized_tool\\data_analysis_tool\\src\\dat\\df_find_value.py:86: UserWarning: pandas only supports SQLAlchemy connectable (engine/connection) or database string URI or sqlite3 DBAPI2 connection. Other DBAPI2 objects are not tested. Please consider using SQLAlchemy.\n",
      "  if (pd.read_sql_query(f\"SELECT * FROM {f} WHERE {f}.{col_date[0]} = '{date.today()}'\", con=db)).size > 0:\n",
      "c:\\Users\\Lenovo\\Desktop\\exam_eti\\containerized_tool\\data_analysis_tool\\src\\dat\\df_find_value.py:89: UserWarning: pandas only supports SQLAlchemy connectable (engine/connection) or database string URI or sqlite3 DBAPI2 connection. Other DBAPI2 objects are not tested. Please consider using SQLAlchemy.\n",
      "  df = pd.read_sql(f'SELECT * FROM {f}', con=db)\n",
      "c:\\Users\\Lenovo\\Desktop\\exam_eti\\containerized_tool\\data_analysis_tool\\src\\dat\\df_find_value.py:82: UserWarning: pandas only supports SQLAlchemy connectable (engine/connection) or database string URI or sqlite3 DBAPI2 connection. Other DBAPI2 objects are not tested. Please consider using SQLAlchemy.\n",
      "  df_detect = pd.read_sql(f'SELECT * FROM {f} LIMIT 1',con=db)\n",
      "c:\\Users\\Lenovo\\Desktop\\exam_eti\\containerized_tool\\data_analysis_tool\\src\\dat\\df_find_value.py:91: UserWarning: pandas only supports SQLAlchemy connectable (engine/connection) or database string URI or sqlite3 DBAPI2 connection. Other DBAPI2 objects are not tested. Please consider using SQLAlchemy.\n",
      "  df = pd.read_sql(f'SELECT * FROM {f}', con=db)\n",
      "c:\\Users\\Lenovo\\Desktop\\exam_eti\\containerized_tool\\data_analysis_tool\\src\\dat\\df_find_value.py:86: UserWarning: pandas only supports SQLAlchemy connectable (engine/connection) or database string URI or sqlite3 DBAPI2 connection. Other DBAPI2 objects are not tested. Please consider using SQLAlchemy.\n",
      "  if (pd.read_sql_query(f\"SELECT * FROM {f} WHERE {f}.{col_date[0]} = '{date.today()}'\", con=db)).size > 0:\n",
      "c:\\Users\\Lenovo\\Desktop\\exam_eti\\containerized_tool\\data_analysis_tool\\src\\dat\\df_find_value.py:89: UserWarning: pandas only supports SQLAlchemy connectable (engine/connection) or database string URI or sqlite3 DBAPI2 connection. Other DBAPI2 objects are not tested. Please consider using SQLAlchemy.\n",
      "  df = pd.read_sql(f'SELECT * FROM {f}', con=db)\n",
      "c:\\Users\\Lenovo\\Desktop\\exam_eti\\containerized_tool\\data_analysis_tool\\src\\dat\\df_find_value.py:82: UserWarning: pandas only supports SQLAlchemy connectable (engine/connection) or database string URI or sqlite3 DBAPI2 connection. Other DBAPI2 objects are not tested. Please consider using SQLAlchemy.\n",
      "  df_detect = pd.read_sql(f'SELECT * FROM {f} LIMIT 1',con=db)\n",
      "c:\\Users\\Lenovo\\Desktop\\exam_eti\\containerized_tool\\data_analysis_tool\\src\\dat\\df_find_value.py:86: UserWarning: pandas only supports SQLAlchemy connectable (engine/connection) or database string URI or sqlite3 DBAPI2 connection. Other DBAPI2 objects are not tested. Please consider using SQLAlchemy.\n",
      "  if (pd.read_sql_query(f\"SELECT * FROM {f} WHERE {f}.{col_date[0]} = '{date.today()}'\", con=db)).size > 0:\n",
      "c:\\Users\\Lenovo\\Desktop\\exam_eti\\containerized_tool\\data_analysis_tool\\src\\dat\\df_find_value.py:89: UserWarning: pandas only supports SQLAlchemy connectable (engine/connection) or database string URI or sqlite3 DBAPI2 connection. Other DBAPI2 objects are not tested. Please consider using SQLAlchemy.\n",
      "  df = pd.read_sql(f'SELECT * FROM {f}', con=db)\n",
      "c:\\Users\\Lenovo\\Desktop\\exam_eti\\containerized_tool\\data_analysis_tool\\src\\dat\\df_find_value.py:82: UserWarning: pandas only supports SQLAlchemy connectable (engine/connection) or database string URI or sqlite3 DBAPI2 connection. Other DBAPI2 objects are not tested. Please consider using SQLAlchemy.\n",
      "  df_detect = pd.read_sql(f'SELECT * FROM {f} LIMIT 1',con=db)\n",
      "c:\\Users\\Lenovo\\Desktop\\exam_eti\\containerized_tool\\data_analysis_tool\\src\\dat\\df_find_value.py:86: UserWarning: pandas only supports SQLAlchemy connectable (engine/connection) or database string URI or sqlite3 DBAPI2 connection. Other DBAPI2 objects are not tested. Please consider using SQLAlchemy.\n",
      "  if (pd.read_sql_query(f\"SELECT * FROM {f} WHERE {f}.{col_date[0]} = '{date.today()}'\", con=db)).size > 0:\n",
      "c:\\Users\\Lenovo\\Desktop\\exam_eti\\containerized_tool\\data_analysis_tool\\src\\dat\\df_find_value.py:89: UserWarning: pandas only supports SQLAlchemy connectable (engine/connection) or database string URI or sqlite3 DBAPI2 connection. Other DBAPI2 objects are not tested. Please consider using SQLAlchemy.\n",
      "  df = pd.read_sql(f'SELECT * FROM {f}', con=db)\n",
      "c:\\Users\\Lenovo\\Desktop\\exam_eti\\containerized_tool\\data_analysis_tool\\src\\dat\\df_find_value.py:82: UserWarning: pandas only supports SQLAlchemy connectable (engine/connection) or database string URI or sqlite3 DBAPI2 connection. Other DBAPI2 objects are not tested. Please consider using SQLAlchemy.\n",
      "  df_detect = pd.read_sql(f'SELECT * FROM {f} LIMIT 1',con=db)\n",
      "c:\\Users\\Lenovo\\Desktop\\exam_eti\\containerized_tool\\data_analysis_tool\\src\\dat\\df_find_value.py:86: UserWarning: pandas only supports SQLAlchemy connectable (engine/connection) or database string URI or sqlite3 DBAPI2 connection. Other DBAPI2 objects are not tested. Please consider using SQLAlchemy.\n",
      "  if (pd.read_sql_query(f\"SELECT * FROM {f} WHERE {f}.{col_date[0]} = '{date.today()}'\", con=db)).size > 0:\n",
      "c:\\Users\\Lenovo\\Desktop\\exam_eti\\containerized_tool\\data_analysis_tool\\src\\dat\\df_find_value.py:89: UserWarning: pandas only supports SQLAlchemy connectable (engine/connection) or database string URI or sqlite3 DBAPI2 connection. Other DBAPI2 objects are not tested. Please consider using SQLAlchemy.\n",
      "  df = pd.read_sql(f'SELECT * FROM {f}', con=db)\n",
      "c:\\Users\\Lenovo\\Desktop\\exam_eti\\containerized_tool\\data_analysis_tool\\src\\dat\\df_find_value.py:82: UserWarning: pandas only supports SQLAlchemy connectable (engine/connection) or database string URI or sqlite3 DBAPI2 connection. Other DBAPI2 objects are not tested. Please consider using SQLAlchemy.\n",
      "  df_detect = pd.read_sql(f'SELECT * FROM {f} LIMIT 1',con=db)\n",
      "c:\\Users\\Lenovo\\Desktop\\exam_eti\\containerized_tool\\data_analysis_tool\\src\\dat\\df_find_value.py:86: UserWarning: pandas only supports SQLAlchemy connectable (engine/connection) or database string URI or sqlite3 DBAPI2 connection. Other DBAPI2 objects are not tested. Please consider using SQLAlchemy.\n",
      "  if (pd.read_sql_query(f\"SELECT * FROM {f} WHERE {f}.{col_date[0]} = '{date.today()}'\", con=db)).size > 0:\n",
      "c:\\Users\\Lenovo\\Desktop\\exam_eti\\containerized_tool\\data_analysis_tool\\src\\dat\\df_find_value.py:89: UserWarning: pandas only supports SQLAlchemy connectable (engine/connection) or database string URI or sqlite3 DBAPI2 connection. Other DBAPI2 objects are not tested. Please consider using SQLAlchemy.\n",
      "  df = pd.read_sql(f'SELECT * FROM {f}', con=db)\n",
      "c:\\Users\\Lenovo\\Desktop\\exam_eti\\containerized_tool\\data_analysis_tool\\src\\dat\\df_find_value.py:82: UserWarning: pandas only supports SQLAlchemy connectable (engine/connection) or database string URI or sqlite3 DBAPI2 connection. Other DBAPI2 objects are not tested. Please consider using SQLAlchemy.\n",
      "  df_detect = pd.read_sql(f'SELECT * FROM {f} LIMIT 1',con=db)\n",
      "c:\\Users\\Lenovo\\Desktop\\exam_eti\\containerized_tool\\data_analysis_tool\\src\\dat\\df_find_value.py:86: UserWarning: pandas only supports SQLAlchemy connectable (engine/connection) or database string URI or sqlite3 DBAPI2 connection. Other DBAPI2 objects are not tested. Please consider using SQLAlchemy.\n",
      "  if (pd.read_sql_query(f\"SELECT * FROM {f} WHERE {f}.{col_date[0]} = '{date.today()}'\", con=db)).size > 0:\n",
      "c:\\Users\\Lenovo\\Desktop\\exam_eti\\containerized_tool\\data_analysis_tool\\src\\dat\\df_find_value.py:89: UserWarning: pandas only supports SQLAlchemy connectable (engine/connection) or database string URI or sqlite3 DBAPI2 connection. Other DBAPI2 objects are not tested. Please consider using SQLAlchemy.\n",
      "  df = pd.read_sql(f'SELECT * FROM {f}', con=db)\n",
      "c:\\Users\\Lenovo\\Desktop\\exam_eti\\containerized_tool\\data_analysis_tool\\src\\dat\\df_find_value.py:82: UserWarning: pandas only supports SQLAlchemy connectable (engine/connection) or database string URI or sqlite3 DBAPI2 connection. Other DBAPI2 objects are not tested. Please consider using SQLAlchemy.\n",
      "  df_detect = pd.read_sql(f'SELECT * FROM {f} LIMIT 1',con=db)\n",
      "c:\\Users\\Lenovo\\Desktop\\exam_eti\\containerized_tool\\data_analysis_tool\\src\\dat\\df_find_value.py:86: UserWarning: pandas only supports SQLAlchemy connectable (engine/connection) or database string URI or sqlite3 DBAPI2 connection. Other DBAPI2 objects are not tested. Please consider using SQLAlchemy.\n",
      "  if (pd.read_sql_query(f\"SELECT * FROM {f} WHERE {f}.{col_date[0]} = '{date.today()}'\", con=db)).size > 0:\n",
      "c:\\Users\\Lenovo\\Desktop\\exam_eti\\containerized_tool\\data_analysis_tool\\src\\dat\\df_find_value.py:89: UserWarning: pandas only supports SQLAlchemy connectable (engine/connection) or database string URI or sqlite3 DBAPI2 connection. Other DBAPI2 objects are not tested. Please consider using SQLAlchemy.\n",
      "  df = pd.read_sql(f'SELECT * FROM {f}', con=db)\n",
      "c:\\Users\\Lenovo\\Desktop\\exam_eti\\containerized_tool\\data_analysis_tool\\src\\dat\\df_find_value.py:82: UserWarning: pandas only supports SQLAlchemy connectable (engine/connection) or database string URI or sqlite3 DBAPI2 connection. Other DBAPI2 objects are not tested. Please consider using SQLAlchemy.\n",
      "  df_detect = pd.read_sql(f'SELECT * FROM {f} LIMIT 1',con=db)\n",
      "c:\\Users\\Lenovo\\Desktop\\exam_eti\\containerized_tool\\data_analysis_tool\\src\\dat\\df_find_value.py:86: UserWarning: pandas only supports SQLAlchemy connectable (engine/connection) or database string URI or sqlite3 DBAPI2 connection. Other DBAPI2 objects are not tested. Please consider using SQLAlchemy.\n",
      "  if (pd.read_sql_query(f\"SELECT * FROM {f} WHERE {f}.{col_date[0]} = '{date.today()}'\", con=db)).size > 0:\n",
      "c:\\Users\\Lenovo\\Desktop\\exam_eti\\containerized_tool\\data_analysis_tool\\src\\dat\\df_find_value.py:89: UserWarning: pandas only supports SQLAlchemy connectable (engine/connection) or database string URI or sqlite3 DBAPI2 connection. Other DBAPI2 objects are not tested. Please consider using SQLAlchemy.\n",
      "  df = pd.read_sql(f'SELECT * FROM {f}', con=db)\n",
      "c:\\Users\\Lenovo\\Desktop\\exam_eti\\containerized_tool\\data_analysis_tool\\src\\dat\\df_find_value.py:82: UserWarning: pandas only supports SQLAlchemy connectable (engine/connection) or database string URI or sqlite3 DBAPI2 connection. Other DBAPI2 objects are not tested. Please consider using SQLAlchemy.\n",
      "  df_detect = pd.read_sql(f'SELECT * FROM {f} LIMIT 1',con=db)\n",
      "c:\\Users\\Lenovo\\Desktop\\exam_eti\\containerized_tool\\data_analysis_tool\\src\\dat\\df_find_value.py:86: UserWarning: pandas only supports SQLAlchemy connectable (engine/connection) or database string URI or sqlite3 DBAPI2 connection. Other DBAPI2 objects are not tested. Please consider using SQLAlchemy.\n",
      "  if (pd.read_sql_query(f\"SELECT * FROM {f} WHERE {f}.{col_date[0]} = '{date.today()}'\", con=db)).size > 0:\n",
      "c:\\Users\\Lenovo\\Desktop\\exam_eti\\containerized_tool\\data_analysis_tool\\src\\dat\\df_find_value.py:89: UserWarning: pandas only supports SQLAlchemy connectable (engine/connection) or database string URI or sqlite3 DBAPI2 connection. Other DBAPI2 objects are not tested. Please consider using SQLAlchemy.\n",
      "  df = pd.read_sql(f'SELECT * FROM {f}', con=db)\n",
      "c:\\Users\\Lenovo\\Desktop\\exam_eti\\containerized_tool\\data_analysis_tool\\src\\dat\\df_find_value.py:82: UserWarning: pandas only supports SQLAlchemy connectable (engine/connection) or database string URI or sqlite3 DBAPI2 connection. Other DBAPI2 objects are not tested. Please consider using SQLAlchemy.\n",
      "  df_detect = pd.read_sql(f'SELECT * FROM {f} LIMIT 1',con=db)\n",
      "c:\\Users\\Lenovo\\Desktop\\exam_eti\\containerized_tool\\data_analysis_tool\\src\\dat\\df_find_value.py:91: UserWarning: pandas only supports SQLAlchemy connectable (engine/connection) or database string URI or sqlite3 DBAPI2 connection. Other DBAPI2 objects are not tested. Please consider using SQLAlchemy.\n",
      "  df = pd.read_sql(f'SELECT * FROM {f}', con=db)\n",
      "c:\\Users\\Lenovo\\Desktop\\exam_eti\\containerized_tool\\data_analysis_tool\\src\\dat\\df_find_value.py:86: UserWarning: pandas only supports SQLAlchemy connectable (engine/connection) or database string URI or sqlite3 DBAPI2 connection. Other DBAPI2 objects are not tested. Please consider using SQLAlchemy.\n",
      "  if (pd.read_sql_query(f\"SELECT * FROM {f} WHERE {f}.{col_date[0]} = '{date.today()}'\", con=db)).size > 0:\n",
      "c:\\Users\\Lenovo\\Desktop\\exam_eti\\containerized_tool\\data_analysis_tool\\src\\dat\\df_find_value.py:89: UserWarning: pandas only supports SQLAlchemy connectable (engine/connection) or database string URI or sqlite3 DBAPI2 connection. Other DBAPI2 objects are not tested. Please consider using SQLAlchemy.\n",
      "  df = pd.read_sql(f'SELECT * FROM {f}', con=db)\n",
      "c:\\Users\\Lenovo\\Desktop\\exam_eti\\containerized_tool\\data_analysis_tool\\src\\dat\\df_find_value.py:82: UserWarning: pandas only supports SQLAlchemy connectable (engine/connection) or database string URI or sqlite3 DBAPI2 connection. Other DBAPI2 objects are not tested. Please consider using SQLAlchemy.\n",
      "  df_detect = pd.read_sql(f'SELECT * FROM {f} LIMIT 1',con=db)\n",
      "c:\\Users\\Lenovo\\Desktop\\exam_eti\\containerized_tool\\data_analysis_tool\\src\\dat\\df_find_value.py:86: UserWarning: pandas only supports SQLAlchemy connectable (engine/connection) or database string URI or sqlite3 DBAPI2 connection. Other DBAPI2 objects are not tested. Please consider using SQLAlchemy.\n",
      "  if (pd.read_sql_query(f\"SELECT * FROM {f} WHERE {f}.{col_date[0]} = '{date.today()}'\", con=db)).size > 0:\n",
      "c:\\Users\\Lenovo\\Desktop\\exam_eti\\containerized_tool\\data_analysis_tool\\src\\dat\\df_find_value.py:89: UserWarning: pandas only supports SQLAlchemy connectable (engine/connection) or database string URI or sqlite3 DBAPI2 connection. Other DBAPI2 objects are not tested. Please consider using SQLAlchemy.\n",
      "  df = pd.read_sql(f'SELECT * FROM {f}', con=db)\n",
      "c:\\Users\\Lenovo\\Desktop\\exam_eti\\containerized_tool\\data_analysis_tool\\src\\dat\\df_find_value.py:82: UserWarning: pandas only supports SQLAlchemy connectable (engine/connection) or database string URI or sqlite3 DBAPI2 connection. Other DBAPI2 objects are not tested. Please consider using SQLAlchemy.\n",
      "  df_detect = pd.read_sql(f'SELECT * FROM {f} LIMIT 1',con=db)\n",
      "c:\\Users\\Lenovo\\Desktop\\exam_eti\\containerized_tool\\data_analysis_tool\\src\\dat\\df_find_value.py:91: UserWarning: pandas only supports SQLAlchemy connectable (engine/connection) or database string URI or sqlite3 DBAPI2 connection. Other DBAPI2 objects are not tested. Please consider using SQLAlchemy.\n",
      "  df = pd.read_sql(f'SELECT * FROM {f}', con=db)\n",
      "c:\\Users\\Lenovo\\Desktop\\exam_eti\\containerized_tool\\data_analysis_tool\\src\\dat\\df_find_value.py:86: UserWarning: pandas only supports SQLAlchemy connectable (engine/connection) or database string URI or sqlite3 DBAPI2 connection. Other DBAPI2 objects are not tested. Please consider using SQLAlchemy.\n",
      "  if (pd.read_sql_query(f\"SELECT * FROM {f} WHERE {f}.{col_date[0]} = '{date.today()}'\", con=db)).size > 0:\n",
      "c:\\Users\\Lenovo\\Desktop\\exam_eti\\containerized_tool\\data_analysis_tool\\src\\dat\\df_find_value.py:89: UserWarning: pandas only supports SQLAlchemy connectable (engine/connection) or database string URI or sqlite3 DBAPI2 connection. Other DBAPI2 objects are not tested. Please consider using SQLAlchemy.\n",
      "  df = pd.read_sql(f'SELECT * FROM {f}', con=db)\n",
      "c:\\Users\\Lenovo\\Desktop\\exam_eti\\containerized_tool\\data_analysis_tool\\src\\dat\\df_find_value.py:82: UserWarning: pandas only supports SQLAlchemy connectable (engine/connection) or database string URI or sqlite3 DBAPI2 connection. Other DBAPI2 objects are not tested. Please consider using SQLAlchemy.\n",
      "  df_detect = pd.read_sql(f'SELECT * FROM {f} LIMIT 1',con=db)\n",
      "c:\\Users\\Lenovo\\Desktop\\exam_eti\\containerized_tool\\data_analysis_tool\\src\\dat\\df_find_value.py:86: UserWarning: pandas only supports SQLAlchemy connectable (engine/connection) or database string URI or sqlite3 DBAPI2 connection. Other DBAPI2 objects are not tested. Please consider using SQLAlchemy.\n",
      "  if (pd.read_sql_query(f\"SELECT * FROM {f} WHERE {f}.{col_date[0]} = '{date.today()}'\", con=db)).size > 0:\n",
      "c:\\Users\\Lenovo\\Desktop\\exam_eti\\containerized_tool\\data_analysis_tool\\src\\dat\\df_find_value.py:89: UserWarning: pandas only supports SQLAlchemy connectable (engine/connection) or database string URI or sqlite3 DBAPI2 connection. Other DBAPI2 objects are not tested. Please consider using SQLAlchemy.\n",
      "  df = pd.read_sql(f'SELECT * FROM {f}', con=db)\n",
      "c:\\Users\\Lenovo\\Desktop\\exam_eti\\containerized_tool\\data_analysis_tool\\src\\dat\\df_find_value.py:82: UserWarning: pandas only supports SQLAlchemy connectable (engine/connection) or database string URI or sqlite3 DBAPI2 connection. Other DBAPI2 objects are not tested. Please consider using SQLAlchemy.\n",
      "  df_detect = pd.read_sql(f'SELECT * FROM {f} LIMIT 1',con=db)\n",
      "c:\\Users\\Lenovo\\Desktop\\exam_eti\\containerized_tool\\data_analysis_tool\\src\\dat\\df_find_value.py:91: UserWarning: pandas only supports SQLAlchemy connectable (engine/connection) or database string URI or sqlite3 DBAPI2 connection. Other DBAPI2 objects are not tested. Please consider using SQLAlchemy.\n",
      "  df = pd.read_sql(f'SELECT * FROM {f}', con=db)\n",
      "c:\\Users\\Lenovo\\Desktop\\exam_eti\\containerized_tool\\data_analysis_tool\\src\\dat\\df_find_value.py:86: UserWarning: pandas only supports SQLAlchemy connectable (engine/connection) or database string URI or sqlite3 DBAPI2 connection. Other DBAPI2 objects are not tested. Please consider using SQLAlchemy.\n",
      "  if (pd.read_sql_query(f\"SELECT * FROM {f} WHERE {f}.{col_date[0]} = '{date.today()}'\", con=db)).size > 0:\n",
      "c:\\Users\\Lenovo\\Desktop\\exam_eti\\containerized_tool\\data_analysis_tool\\src\\dat\\df_find_value.py:89: UserWarning: pandas only supports SQLAlchemy connectable (engine/connection) or database string URI or sqlite3 DBAPI2 connection. Other DBAPI2 objects are not tested. Please consider using SQLAlchemy.\n",
      "  df = pd.read_sql(f'SELECT * FROM {f}', con=db)\n",
      "c:\\Users\\Lenovo\\Desktop\\exam_eti\\containerized_tool\\data_analysis_tool\\src\\dat\\df_find_value.py:82: UserWarning: pandas only supports SQLAlchemy connectable (engine/connection) or database string URI or sqlite3 DBAPI2 connection. Other DBAPI2 objects are not tested. Please consider using SQLAlchemy.\n",
      "  df_detect = pd.read_sql(f'SELECT * FROM {f} LIMIT 1',con=db)\n",
      "c:\\Users\\Lenovo\\Desktop\\exam_eti\\containerized_tool\\data_analysis_tool\\src\\dat\\df_find_value.py:86: UserWarning: pandas only supports SQLAlchemy connectable (engine/connection) or database string URI or sqlite3 DBAPI2 connection. Other DBAPI2 objects are not tested. Please consider using SQLAlchemy.\n",
      "  if (pd.read_sql_query(f\"SELECT * FROM {f} WHERE {f}.{col_date[0]} = '{date.today()}'\", con=db)).size > 0:\n",
      "c:\\Users\\Lenovo\\Desktop\\exam_eti\\containerized_tool\\data_analysis_tool\\src\\dat\\df_find_value.py:89: UserWarning: pandas only supports SQLAlchemy connectable (engine/connection) or database string URI or sqlite3 DBAPI2 connection. Other DBAPI2 objects are not tested. Please consider using SQLAlchemy.\n",
      "  df = pd.read_sql(f'SELECT * FROM {f}', con=db)\n",
      "c:\\Users\\Lenovo\\Desktop\\exam_eti\\containerized_tool\\data_analysis_tool\\src\\dat\\df_find_value.py:82: UserWarning: pandas only supports SQLAlchemy connectable (engine/connection) or database string URI or sqlite3 DBAPI2 connection. Other DBAPI2 objects are not tested. Please consider using SQLAlchemy.\n",
      "  df_detect = pd.read_sql(f'SELECT * FROM {f} LIMIT 1',con=db)\n",
      "c:\\Users\\Lenovo\\Desktop\\exam_eti\\containerized_tool\\data_analysis_tool\\src\\dat\\df_find_value.py:86: UserWarning: pandas only supports SQLAlchemy connectable (engine/connection) or database string URI or sqlite3 DBAPI2 connection. Other DBAPI2 objects are not tested. Please consider using SQLAlchemy.\n",
      "  if (pd.read_sql_query(f\"SELECT * FROM {f} WHERE {f}.{col_date[0]} = '{date.today()}'\", con=db)).size > 0:\n",
      "c:\\Users\\Lenovo\\Desktop\\exam_eti\\containerized_tool\\data_analysis_tool\\src\\dat\\df_find_value.py:89: UserWarning: pandas only supports SQLAlchemy connectable (engine/connection) or database string URI or sqlite3 DBAPI2 connection. Other DBAPI2 objects are not tested. Please consider using SQLAlchemy.\n",
      "  df = pd.read_sql(f'SELECT * FROM {f}', con=db)\n"
     ]
    },
    {
     "data": {
      "text/plain": [
       "'value find table saved'"
      ]
     },
     "execution_count": 6,
     "metadata": {},
     "output_type": "execute_result"
    }
   ],
   "source": [
    "dat.df_find_value.find_value_mysql('localhost',os.environ['MYSQLSERVER_USER'],\n",
    "                os.environ['MYSQLSERVER_PASS'],'sakila','Hillyer')"
   ]
  }
 ],
 "metadata": {
  "kernelspec": {
   "display_name": "Python 3",
   "language": "python",
   "name": "python3"
  },
  "language_info": {
   "codemirror_mode": {
    "name": "ipython",
    "version": 3
   },
   "file_extension": ".py",
   "mimetype": "text/x-python",
   "name": "python",
   "nbconvert_exporter": "python",
   "pygments_lexer": "ipython3",
   "version": "3.11.1"
  }
 },
 "nbformat": 4,
 "nbformat_minor": 2
}
